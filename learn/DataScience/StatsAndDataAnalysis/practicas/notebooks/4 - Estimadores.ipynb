{
 "cells": [
  {
   "cell_type": "markdown",
   "source": [
    "## Estimadores de datos"
   ],
   "metadata": {
    "collapsed": false,
    "pycharm": {
     "name": "#%% md\n"
    }
   }
  },
  {
   "cell_type": "code",
   "execution_count": 23,
   "metadata": {
    "collapsed": true,
    "pycharm": {
     "is_executing": false,
     "name": "#%%\n"
    }
   },
   "outputs": [],
   "source": [
    "# Estimadores a traves de datos\n",
    "import sklearn\n",
    "import numpy as np\n",
    "import pandas as pd\n",
    "import matplotlib.pyplot as plt\n",
    "from sklearn.datasets import load_iris\n",
    "from scipy import stats\n",
    "import seaborn as sns\n",
    "from IPython.core.display import Image\n",
    "%matplotlib inline"
   ]
  },
  {
   "cell_type": "code",
   "execution_count": 4,
   "outputs": [
    {
     "data": {
      "text/plain": "0.24197072451914337"
     },
     "metadata": {},
     "output_type": "execute_result",
     "execution_count": 4
    }
   ],
   "source": [
    "from scipy.stats import norm\n",
    "x1 = 3\n",
    "mu1 = 4\n",
    "mu2 = 7\n",
    "sigma = 1\n",
    "\n",
    "#p_muestra = norm.pdf(x1, mu1, sigma)\n",
    "p_muestra = norm.pdf(x1, mu1, sigma)\n",
    "p_muestra"
   ],
   "metadata": {
    "collapsed": false,
    "pycharm": {
     "name": "#%%\n",
     "is_executing": false
    }
   }
  },
  {
   "cell_type": "code",
   "execution_count": 5,
   "outputs": [
    {
     "data": {
      "text/plain": "1.4701857752651781e-09"
     },
     "metadata": {},
     "output_type": "execute_result",
     "execution_count": 5
    }
   ],
   "source": [
    "from scipy.stats import norm\n",
    "x1 = 3\n",
    "x2 = 10\n",
    "\n",
    "mu1 = 4\n",
    "mu2 = 7\n",
    "sigma = 1\n",
    "\n",
    "p_muestra = norm.pdf(x1, mu1, sigma)*norm.pdf(x2, mu1, sigma)\n",
    "p_muestra"
   ],
   "metadata": {
    "collapsed": false,
    "pycharm": {
     "name": "#%%\n",
     "is_executing": false
    }
   }
  },
  {
   "cell_type": "code",
   "execution_count": 6,
   "outputs": [],
   "source": [
    "muesta_10 = norm.rvs( 5,sigma, size = 10 )"
   ],
   "metadata": {
    "collapsed": false,
    "pycharm": {
     "name": "#%%\n",
     "is_executing": false
    }
   }
  },
  {
   "cell_type": "code",
   "execution_count": 12,
   "outputs": [],
   "source": [
    "data1 = norm.rvs( mu1, sigma, size = 100000 )\n",
    "data2 = norm.rvs( mu2, sigma, size = 100000 )"
   ],
   "metadata": {
    "collapsed": false,
    "pycharm": {
     "name": "#%%\n",
     "is_executing": false
    }
   }
  },
  {
   "cell_type": "code",
   "execution_count": 20,
   "outputs": [
    {
     "data": {
      "text/plain": "array([3.6566496 , 3.96351344, 4.25624334, 2.90587223, 5.15121986,\n       4.20422337, 5.16700355, 3.50617028, 6.13236837, 6.09678226])"
     },
     "metadata": {},
     "output_type": "execute_result",
     "execution_count": 20
    }
   ],
   "source": [
    "muesta_10"
   ],
   "metadata": {
    "collapsed": false,
    "pycharm": {
     "name": "#%%\n",
     "is_executing": false
    }
   }
  },
  {
   "cell_type": "code",
   "execution_count": 21,
   "outputs": [
    {
     "data": {
      "text/plain": "[3000, 3000, 3000, 3000, 3000, 3000, 3000, 3000, 3000, 3000]"
     },
     "metadata": {},
     "output_type": "execute_result",
     "execution_count": 21
    }
   ],
   "source": [
    "# Para generar una altura\n",
    "y = list([])\n",
    "for i in range(10):\n",
    "    y.append(3000)\n",
    "y"
   ],
   "metadata": {
    "collapsed": false,
    "pycharm": {
     "name": "#%%\n",
     "is_executing": false
    }
   }
  },
  {
   "cell_type": "code",
   "execution_count": 22,
   "outputs": [
    {
     "data": {
      "text/plain": "<matplotlib.collections.PathCollection at 0x26359cce548>"
     },
     "metadata": {},
     "output_type": "execute_result",
     "execution_count": 22
    },
    {
     "data": {
      "text/plain": "<Figure size 432x288 with 1 Axes>",
      "image/png": "[encoded data removed]"
     },
     "metadata": {
      "needs_background": "light"
     },
     "output_type": "display_data"
    }
   ],
   "source": [
    "ax = sns.distplot(data1, bins=50, color='blue', kde= False)\n",
    "ax.set(xlabel='Distribucion normal mu1', ylabel='Frecuencia')\n",
    "\n",
    "ax = sns.distplot(data2, bins=50, color='red', kde=False)\n",
    "ax.set(xlabel='Distribucion normal mu1', ylabel='Frecuencia')\n",
    "\n",
    "ax.scatter(muesta_10, y, c='k')"
   ],
   "metadata": {
    "collapsed": false,
    "pycharm": {
     "name": "#%%\n",
     "is_executing": false
    }
   }
  },
  {
   "cell_type": "code",
   "execution_count": 29,
   "outputs": [
    {
     "data": {
      "text/plain": "<Figure size 432x288 with 1 Axes>",
      "image/png": "[encoded data removed]"
     },
     "metadata": {
      "needs_background": "light"
     },
     "output_type": "display_data"
    }
   ],
   "source": [
    "# Estimadores de máxima verosimilitud\n",
    "from scipy.stats import t\n",
    "data1 = t.rvs(100, size=1000000)\n",
    "data2 = t.rvs(4, size=1000000)\n",
    "ax = sns.distplot(data1, bins=500, kde=False, color='red')\n",
    "ax = sns.distplot(data2, bins=500, kde=False, color='blue')"
   ],
   "metadata": {
    "collapsed": false,
    "pycharm": {
     "name": "#%%\n",
     "is_executing": false
    }
   }
  },
  {
   "cell_type": "code",
   "execution_count": 30,
   "outputs": [
    {
     "data": {
      "text/plain": "<Figure size 432x288 with 1 Axes>",
      "image/png": "[encoded data removed]"
     },
     "metadata": {
      "needs_background": "light"
     },
     "output_type": "display_data"
    }
   ],
   "source": [
    "from scipy.stats import chi2\n",
    "data1 = chi2.rvs(5, size=1000000)\n",
    "data2 = chi2.rvs(15, size=1000000)\n",
    "\n",
    "ax = sns.distplot(data1, bins=500, kde=False, color='red')\n",
    "ax = sns.distplot(data2, bins=500, kde=False, color='blue')"
   ],
   "metadata": {
    "collapsed": false,
    "pycharm": {
     "name": "#%%\n",
     "is_executing": false
    }
   }
  },
  {
   "cell_type": "code",
   "execution_count": 31,
   "outputs": [
    {
     "data": {
      "text/plain": "<Figure size 432x288 with 1 Axes>",
      "image/png": "[encoded data removed]"
     },
     "metadata": {
      "needs_background": "light"
     },
     "output_type": "display_data"
    }
   ],
   "source": [
    "from scipy.stats import f\n",
    "data1 = f.rvs(5, 25, size=1000000)\n",
    "data2 = f.rvs(15, 25, size=1000000)\n",
    "\n",
    "ax = sns.distplot(data1, bins=500, kde=False, color='red')\n",
    "ax = sns.distplot(data2, bins=500, kde=False, color='blue')"
   ],
   "metadata": {
    "collapsed": false,
    "pycharm": {
     "name": "#%%\n",
     "is_executing": false
    }
   }
  },
  {
   "cell_type": "code",
   "execution_count": 32,
   "outputs": [
    {
     "data": {
      "text/plain": "0.0019800859524222187"
     },
     "metadata": {},
     "output_type": "execute_result",
     "execution_count": 32
    }
   ],
   "source": [
    "f.pdf(4,15,25)"
   ],
   "metadata": {
    "collapsed": false,
    "pycharm": {
     "name": "#%%\n",
     "is_executing": false
    }
   }
  },
  {
   "cell_type": "code",
   "execution_count": 33,
   "outputs": [
    {
     "data": {
      "text/plain": "0.9988900520089906"
     },
     "metadata": {},
     "output_type": "execute_result",
     "execution_count": 33
    }
   ],
   "source": [
    "f.cdf(4,15,25)"
   ],
   "metadata": {
    "collapsed": false,
    "pycharm": {
     "name": "#%%\n",
     "is_executing": false
    }
   }
  },
  {
   "cell_type": "code",
   "execution_count": 35,
   "outputs": [
    {
     "data": {
      "text/plain": "4.000000000000022"
     },
     "metadata": {},
     "output_type": "execute_result",
     "execution_count": 35
    }
   ],
   "source": [
    "f.ppf( 0.9988900520089906, 15, 25 )"
   ],
   "metadata": {
    "collapsed": false,
    "pycharm": {
     "name": "#%%\n",
     "is_executing": false
    }
   }
  },
  {
   "cell_type": "code",
   "execution_count": 36,
   "outputs": [
    {
     "data": {
      "text/plain": "0.982011155699839"
     },
     "metadata": {},
     "output_type": "execute_result",
     "execution_count": 36
    }
   ],
   "source": [
    "f.ppf( 0.5, 15, 25 )"
   ],
   "metadata": {
    "collapsed": false,
    "pycharm": {
     "name": "#%%\n",
     "is_executing": false
    }
   }
  },
  {
   "cell_type": "code",
   "execution_count": 43,
   "outputs": [
    {
     "data": {
      "text/plain": "<matplotlib.axes._subplots.AxesSubplot at 0x2635d503188>"
     },
     "metadata": {},
     "output_type": "execute_result",
     "execution_count": 43
    },
    {
     "data": {
      "text/plain": "<Figure size 432x288 with 1 Axes>",
      "image/png": "[encoded data removed]"
     },
     "metadata": {
      "needs_background": "light"
     },
     "output_type": "display_data"
    }
   ],
   "source": [
    "from scipy.stats import expon\n",
    "from scipy.stats import uniform\n",
    "poblacion = pd.DataFrame()\n",
    "poblacion['numbers'] = expon.rvs(40, size=100000)\n",
    "poblacion['numbers'].hist(bins=100)"
   ],
   "metadata": {
    "collapsed": false,
    "pycharm": {
     "name": "#%%\n",
     "is_executing": false
    }
   }
  },
  {
   "cell_type": "code",
   "execution_count": 46,
   "outputs": [
    {
     "data": {
      "text/plain": "[40.86354501927894,\n 40.90521053874363,\n 40.92026219409078,\n 40.92030995421312,\n 41.21185211294616,\n 41.03105292633492,\n 40.965099219933705,\n 40.97250813065957,\n 41.168514226662644,\n 40.87997137634536,\n 41.05413251855959,\n 40.87951879882439,\n 40.99097685180442,\n 40.918977330123255,\n 40.97556446268819,\n 41.013126292930075,\n 40.80174770779342,\n 41.11736742978051,\n 41.2422651325309,\n 40.94020459642202,\n 41.0950242694805,\n 40.93855675111055,\n 40.95370681189601,\n 40.94406591959877,\n 41.100650513157646,\n 40.85023645456752,\n 41.06694292763616,\n 40.82466953927833,\n 41.099358175063884,\n 41.03652265968995,\n 40.80725770764529,\n 41.06183115580412,\n 41.15442159378513,\n 41.020339532939936,\n 41.043063461751764,\n 41.02486693298326,\n 41.09361687923419,\n 41.0207858647015,\n 40.92781583857266,\n 40.94597579920838,\n 40.87462155577371,\n 40.83279372645136,\n 41.02490538742982,\n 41.090079893990804,\n 40.91208094612483,\n 40.937896607231544,\n 41.06886799520528,\n 40.78019250503418,\n 41.18503657245155,\n 40.937976709634434,\n 41.09065273015114,\n 41.005668585073806,\n 41.05366466543815,\n 41.1056397348747,\n 40.87856231788607,\n 40.87036971137433,\n 40.94513422631014,\n 40.94296473696809,\n 41.07659825267966,\n 41.00716976618154,\n 40.979977943151034,\n 40.87936569077267,\n 41.094337871045454,\n 41.04418411591901,\n 40.974408385519425,\n 40.919732928067305,\n 40.90657924051175,\n 41.12780174357863,\n 40.93353764911057,\n 41.05563340277292,\n 41.0487296329883,\n 40.898283310759936,\n 40.80645953580507,\n 40.94836064801087,\n 40.862899293160154,\n 40.88003772667752,\n 40.93434432577077,\n 40.93638897505991,\n 40.906112558758174,\n 40.94676917464578,\n 40.988538005450955,\n 40.82865438859854,\n 41.02567627554483,\n 41.077016376185284,\n 41.016178961753354,\n 40.86214335830408,\n 41.024753645850176,\n 41.01516273918395,\n 41.09163832208764,\n 40.95694640051315,\n 40.86698260519901,\n 41.07274508799787,\n 41.07430785801168,\n 40.96040690731898,\n 40.93156554788373,\n 40.842673442696764,\n 40.844707544733964,\n 40.973657834951766,\n 41.11877769601776,\n 41.17054108890335,\n 41.316880083014105,\n 40.91703039802237,\n 40.963731753749926,\n 41.02576634190508,\n 41.02720917057427,\n 40.97528424647488,\n 40.95239676367586,\n 41.11726417551179,\n 41.03438773152958,\n 41.19051240060551,\n 41.03213975216441,\n 41.127831283752975,\n 40.94727406755442,\n 40.86941142531405,\n 41.004843593724146,\n 41.02395298277579,\n 41.021857176835454,\n 41.16284084835379,\n 41.16681457182767,\n 40.993975396942844,\n 41.00567824579546,\n 40.88716246019527,\n 41.21437454511674,\n 40.91850725585283,\n 40.983236376509886,\n 40.90405163743957,\n 41.17712760074564,\n 40.98408455892034,\n 40.94059280833887,\n 41.12910298684102,\n 41.04570839059856,\n 41.03903017949821,\n 40.97124910408697,\n 41.045117971351736,\n 40.86265929404257,\n 40.86301350725833,\n 40.8440881086127,\n 40.902256723286094,\n 41.186568377755385,\n 40.9535293487028,\n 40.95889446847537,\n 40.849114640201215,\n 40.84538245389376,\n 41.14574600030466,\n 40.99312102365665,\n 41.07420064108516,\n 41.03404206385634,\n 41.13060675102931,\n 40.90958487616517,\n 41.0030652121527,\n 40.93903607870058,\n 41.02205967438189,\n 40.95767172017365,\n 40.84958349023442,\n 41.149344430431526,\n 40.86028166140354,\n 40.96320824832938,\n 41.12204080335393,\n 41.053904672900465,\n 40.78411800137644,\n 40.899677281701294,\n 41.0993915852028,\n 40.96772964369678,\n 41.108696127535744,\n 40.85671780169078,\n 40.96451339037,\n 40.975779698152685,\n 41.00831024515241,\n 41.0473281616645,\n 40.92698142157345,\n 41.03749732375951,\n 40.94367299768053,\n 41.06358881584157,\n 40.76431764219646,\n 40.94503209243452,\n 41.0122694460187,\n 41.105502200675225,\n 40.97889231313859,\n 40.811959176065194,\n 41.07448099474639,\n 41.074443121889544,\n 40.9170727462018,\n 40.944066454040325,\n 40.89567789265655,\n 40.973755788780466,\n 41.0190915625277,\n 41.07885680838948,\n 40.72029992078271,\n 40.97602285012233,\n 40.971375190219376,\n 40.8957073723932,\n 40.90291785443135,\n 40.94416683279742,\n 41.13905974870305,\n 41.041577406015264,\n 40.99891093641949,\n 40.9683963979939,\n 40.894607493417254,\n 41.022395248300626,\n 40.887475837103594,\n 41.03654841782367,\n 41.07553547643423,\n 41.19087665444309,\n 40.963912539785454,\n 41.076707244121145,\n 40.829349049600054,\n 40.81252686286053,\n 41.0494274761039,\n 41.043492948836956,\n 40.92015056051398,\n 40.87075724928872,\n 40.910207426578715,\n 41.02663012492645,\n 40.79471202227425,\n 41.03871756813004,\n 40.941455869148406,\n 41.018374244393165,\n 40.95320850698737,\n 41.088282237768915,\n 41.015152447298625,\n 40.97001239243795,\n 40.871598237305626,\n 40.94990492289585,\n 40.832400758097826,\n 40.88962158060881,\n 41.05166636898616,\n 40.98408728654271,\n 40.959429450483256,\n 40.903756682819505,\n 41.00296523333623,\n 40.79128546602524,\n 41.10781072307974,\n 40.98515186902071,\n 40.92803440834547,\n 41.1029313121298,\n 40.7979719704307,\n 41.019835085278864,\n 41.03337644455983,\n 41.16625982705724,\n 40.86865900378943,\n 41.02218204199845,\n 40.861026057691404,\n 40.97513512231356,\n 41.017480768943805,\n 41.13016707939712,\n 41.00356070570034,\n 40.96458126252222,\n 41.059783500844695,\n 40.927141228791946,\n 41.085532984317794,\n 41.18391109166672,\n 41.081839210046894,\n 40.98617582613935,\n 40.888370964135476,\n 41.18375165260692,\n 40.950068056489734,\n 41.018338077258825,\n 40.89405149398958,\n 40.928358480314685,\n 40.91838214914366,\n 41.1704748767829,\n 41.10636884930117,\n 40.98709908043178,\n 40.874811969477875,\n 41.07160675783221,\n 41.02539903922171,\n 40.95178233503563,\n 40.85814939670836,\n 41.047413063260876,\n 40.883698030403,\n 41.292260715629574,\n 40.93309785648912,\n 41.05215522927845,\n 41.03628845260875,\n 40.99805569372733,\n 40.89426661145358,\n 41.02482598210244,\n 41.023159732754586,\n 41.00716320169236,\n 41.09333973584847,\n 41.11968304917725,\n 40.98994546342225,\n 41.116576019782904,\n 41.047351397852374,\n 40.97196049352948,\n 41.16939418111912,\n 40.885743781346804,\n 41.09973358687248,\n 40.92960893530547,\n 41.1343662313624,\n 40.94499133649266,\n 41.00050540461832,\n 41.018828443871854,\n 40.93086006743521,\n 40.865228215390836,\n 40.99292317037361,\n 41.03777573486562,\n 40.83970154888414,\n 41.15998595251453,\n 41.069065040065944,\n 40.9062774088361,\n 40.96508747524219,\n 41.18961965657337,\n 41.207032078611874,\n 41.13854127450009,\n 41.1174820387908,\n 40.983821191818414,\n 41.11814547269663,\n 40.961391279586344,\n 40.83178258961054,\n 41.111382808475874,\n 40.99609033696051,\n 40.818606664213405,\n 40.93367353853685,\n 41.0031904101957,\n 40.89893869347585,\n 40.967741691742106,\n 40.92429780451326,\n 40.779860359610325,\n 40.90930386515283,\n 40.92520236641706,\n 41.08208429181445,\n 41.01266634034321,\n 40.967218658631936,\n 40.995169634683755,\n 40.94101309989619,\n 41.16265953651526,\n 41.14416562338526,\n 40.912926602049666,\n 41.20708633826345,\n 41.08343529179963,\n 40.94729778595444,\n 41.007947161408254,\n 40.743048534743714,\n 40.73144547452267,\n 40.99504335948359,\n 41.10513438211849,\n 40.91473376524175,\n 41.06364011211299,\n 41.058454343499335,\n 41.18230061459687,\n 40.77805463600484,\n 40.8647524058018,\n 40.91404754420975,\n 41.10926105377387,\n 41.177613126671055,\n 40.9827913070236,\n 41.03009938116979,\n 40.863160113100236,\n 40.989280381812044,\n 41.00033815604794,\n 41.3038398255907,\n 40.98315852286869,\n 41.01451432199088,\n 40.9263611785254,\n 40.86482867129243,\n 41.06335963585973,\n 40.9042939225381,\n 40.84372864661457,\n 41.14466911886796,\n 40.993714924972295,\n 40.89918720685126,\n 40.99692118056309,\n 41.02826187026504,\n 41.10622942597377,\n 40.773546769127435,\n 40.82763957413151,\n 40.98756127539276,\n 41.05717463491109,\n 41.128589872273324,\n 41.04401180040768,\n 41.01790783446406,\n 41.0214329594262,\n 40.94475749492069,\n 40.905702978007255,\n 41.010886689859646,\n 41.0483898376073,\n 41.00152318360853,\n 40.904844771177416,\n 41.052980065501025,\n 41.017488059858415,\n 41.0620565659976,\n 40.869626096937694,\n 41.00692866237756,\n 40.87117752154288,\n 41.09422810096408,\n 40.84844017066654,\n 41.0398024254106,\n 40.920975672333874,\n 40.790002425083,\n 41.09233406802893,\n 40.83502199230677,\n 40.89389129781111,\n 41.07058229002974,\n 41.2056319034072,\n 40.917158734673244,\n 41.026029920962955,\n 41.02866549008757,\n 40.894361272082705,\n 41.083076693654476,\n 41.07100744160537,\n 41.087538452945594,\n 41.09069415158002,\n 40.96207116345923,\n 41.10873479722159,\n 41.24427662551224,\n 40.83034541200494,\n 40.97682391693781,\n 41.073709762697426,\n 41.09593074234687,\n 40.944491183752596,\n 41.215373071398915,\n 41.10321982497111,\n 41.02764412073968,\n 41.09140527378729,\n 41.11565409427592,\n 41.013542632561766,\n 40.97050068365563,\n 41.16456960662071,\n 41.02854545960242,\n 40.77415246819618,\n 40.95975594743319,\n 40.989732938364924,\n 40.95380252774731,\n 40.95781627932709,\n 40.95322549633083,\n 41.02119555436504,\n 40.99569317368163,\n 41.08115245184952,\n 41.10933401205427,\n 41.064550997476005,\n 41.05543994654162,\n 40.97038312893904,\n 41.20631416811876,\n 40.890902849891745,\n 40.94344915558038,\n 40.99587989039772,\n 41.133159944108314,\n 41.046172191624535,\n 41.018847896203404,\n 41.046106068391666,\n 41.09025809475801,\n 40.94843957065217,\n 41.05015243130301,\n 40.90510079036121,\n 40.868513065271834,\n 40.85497709240338,\n 40.90120443698362,\n 40.96106904000847,\n 41.06559376194195,\n 41.10350138152312,\n 41.17115267737101,\n 41.28374031773737,\n 40.87279513483022,\n 40.947135409105684,\n 41.11087975779279,\n 40.9462941056912,\n 41.055069305624194,\n 41.0596040486148,\n 41.021692349377616,\n 40.90156542509122,\n 40.99094248128699,\n 41.02022276990132,\n 41.03915127678928,\n 41.01752824891582,\n 40.916387633661174,\n 40.85321952284326,\n 40.85133221177507,\n 40.876005831393805,\n 40.924924914100394,\n 41.075445113480534,\n 41.19732274100168,\n 41.07403740498773,\n 41.09214089214233,\n 40.828266176631864,\n 40.914712402400376,\n 40.884242709579574,\n 41.03550517028906,\n 41.0064134455634,\n 41.1204472845848,\n 40.89654688195876,\n 40.82431341095108,\n 41.10432436583547,\n 41.128380852281445,\n 40.96933860209542,\n 40.96781224430506,\n 41.10488949847192,\n 40.833501535394625,\n 41.05262432605816,\n 40.96897765013169,\n 40.82398771399572,\n 40.85896884832014,\n 40.886440441763945,\n 40.85280060093733,\n 40.871641436095054,\n 40.84888324951177,\n 41.071111615157605,\n 41.0681255185028,\n 40.89288529960801,\n 41.0624556665152,\n 41.0785850924415,\n 40.849370151892785,\n 41.06695568918213,\n 41.25518108087261,\n 41.02439607245891,\n 40.837697095796955,\n 40.98650629413296,\n 41.12364458671514,\n 41.06982497588504,\n 40.92672088782604,\n 41.05833823197109,\n 40.93432429396401,\n 40.989303548330014,\n 40.95037297650519,\n 40.96958764329337,\n 40.982504662724835,\n 40.86581431699578,\n 41.142905298653176,\n 40.91638598605655,\n 40.8928625427497,\n 40.9420851563263,\n 40.97761279800326,\n 41.01068618327984,\n 41.00466959443652,\n 40.91392202756263,\n 41.073692001337605,\n 40.91041036975253,\n 40.96578296848696,\n 40.940345905818965,\n 40.979304196290876,\n 40.95913644740108,\n 41.04007091452083,\n 40.804733416204606,\n 41.00874779852723,\n 41.029932752053284,\n 40.79129561442823,\n 40.990982057975025,\n 40.91474111798338,\n 40.96066515202783,\n 40.936142719719456,\n 40.998411689996665,\n 40.97279199336793,\n 40.94356590159946,\n 40.72141585563278,\n 41.11028299299875,\n 40.9951320000726,\n 40.992566043235776,\n 41.10515825842074,\n 40.92474920410878,\n 40.8958994132212,\n 41.03676768561184,\n 40.96752310166068,\n 40.90268042573854,\n 40.94658972978279,\n 41.024079086498084,\n 40.994943836852535,\n 40.897024469051566,\n 40.83139597496618,\n 40.951117092015444,\n 41.02227104590923,\n 40.80816994765214,\n 41.20453914475936,\n 41.18690705217906,\n 41.05657156276275,\n 40.96972250109457,\n 41.04633079390508,\n 40.95614135397078,\n 40.84445850986404,\n 41.027524253802,\n 40.86952636811354,\n 40.80203405915867,\n 41.0153236286144,\n 41.07389059711145,\n 40.977714283179466,\n 40.95177005237613,\n 41.053825728857284,\n 40.88406726968163,\n 40.878567213185455,\n 40.932761015761855,\n 41.1008429256738,\n 41.080902329917045,\n 40.96810079506298,\n 41.033732097340824,\n 40.88904074107049,\n 40.91333260950669,\n 41.221839067657044,\n 41.05148941816756,\n 40.95687058598923,\n 41.150239885598296,\n 40.85831237745768,\n 41.04874212416917,\n 40.98614547996959,\n 40.900509865676156,\n 41.11965043098498,\n 40.91649354058767,\n 41.0132114352493,\n 41.038163575586076,\n 40.98392727794172,\n 41.17025010552107,\n 40.993388670139076,\n 41.05022061470651,\n 40.79717533660548,\n 40.87945575405577,\n 41.03044294106713,\n 41.02972723018686,\n 41.095936817127864,\n 40.83947867131966,\n 41.01801231866801,\n 40.98887587085633,\n 40.88381169447719,\n 40.930467905324356,\n 40.972938162216685,\n 40.906861889615925,\n 41.27260053926583,\n 40.91133698917105,\n 40.954609606814,\n 41.060930258386435,\n 41.13522290863377,\n 40.993926227043076,\n 40.92358158169894,\n 40.98379955784971,\n 41.114051388729706,\n 40.93565310208287,\n 41.036929793640304,\n 41.05600564311383,\n 41.07397827219864,\n 40.915710702212216,\n 41.044691425077346,\n 41.180327707026144,\n 41.00669547410358,\n 41.00621531491359,\n 41.00077621961375,\n 41.225004986132326,\n 41.11501611173704,\n 40.9668685968229,\n 40.99373132655383,\n 40.94179306524149,\n 40.9031662709667,\n 40.968306324747985,\n 41.022340333343436,\n 40.96101110207885,\n 41.09326642019053,\n 41.17140113057616,\n 41.04843759944422,\n 41.024811704946494,\n 40.90373697435002,\n 40.9354024776393,\n 40.91389418326856,\n 40.874790417642785,\n 40.941912065462446,\n 41.172090384392135,\n 40.82194531466585,\n 41.164264168805396,\n 40.97894324878061,\n 40.92619124906583,\n 41.17030334337281,\n 40.90297654603126,\n 40.858058009857594,\n 40.92829045337574,\n 41.09124220342759,\n 41.02871826231656,\n 40.87541336333423,\n 41.28806640507013,\n 40.96962442040372,\n 40.88801319699911,\n 40.99022309920231,\n 41.16274898030036,\n 40.87840218545176,\n 41.12584031315322,\n 40.83350813472639,\n 40.96645119060464,\n 41.030042791497436,\n 40.86105439052896,\n 40.878089517102914,\n 40.979860982825606,\n 41.12915881859336,\n 41.20669549151232,\n 40.94273216426976,\n 41.11355343624362,\n 41.05254482374688,\n 40.85858810525863,\n 40.95746940878195,\n 40.868574364742614,\n 40.94192464525907,\n 40.93463833276123,\n 40.878917168862344,\n 40.96876223420972,\n 40.93951415183186,\n 41.208528761040405,\n 41.12021624720137,\n 40.81809727215298,\n 40.95379739409631,\n 41.147250695963066,\n 40.909358123159485,\n 40.92641680894244,\n 40.91350419229745,\n 41.13374721845549,\n 41.00081873897605,\n 40.8753849345912,\n 41.124399308800385,\n 40.82279135499303,\n 41.1366403467525,\n 40.98845604321446,\n 40.97193900954926,\n 40.97028899114412,\n 40.960868579872546,\n 40.92850554162695,\n 40.81462674634509,\n 41.05727481554184,\n 41.05353035796962,\n 41.13611172267998,\n 41.02905520761711,\n 40.91358056019915,\n 41.02082796000425,\n 41.13216897358875,\n 41.11565969118014,\n 40.783907213889776,\n 41.092212474306024,\n 41.05119776619794,\n 40.957154806389916,\n 41.105974945865846,\n 41.03706039666532,\n 40.950294015295185,\n 40.93974159317334,\n 40.84709236492078,\n 41.07889410642381,\n 41.02622778319368,\n 40.88908379879023,\n 41.0568968277754,\n 41.18226940398893,\n 41.04032591892463,\n 40.85691041075472,\n 40.89568188610458,\n 41.154549072753916,\n 41.274892376859206,\n 41.08206022704921,\n 41.036575264502424,\n 41.075845570221006,\n 41.00640301566475,\n 40.94269122660735,\n 40.75819683626382,\n 41.316740327608024,\n 40.96056287532111,\n 41.03808552583445,\n 40.87218115733556,\n 40.934817767699855,\n 41.1739088710876,\n 40.84555498353611,\n 40.9736223923683,\n 40.83683038822714,\n 41.07983665078069,\n 41.097442134458596,\n 40.92974962912047,\n 40.85994001942329,\n 41.10628325844538,\n 41.0734532699802,\n 40.87630460910378,\n 40.97031911450916,\n 40.921062424380324,\n 41.1080469792745,\n 40.92252377017367,\n 41.02447667457408,\n 41.092147881617265,\n 40.99881449029779,\n 41.03500063896449,\n 41.2356284948952,\n 41.03581470244863,\n 41.089472098348296,\n 40.976038821537195,\n 40.89414561042336,\n 40.98944315877359,\n 41.07185462845,\n 40.884937886936044,\n 40.786969384939724,\n 40.991588317421375,\n 40.88460376214901,\n 40.97964057714669,\n 41.01188423727555,\n 40.928843923594535,\n 40.9367284151638,\n 41.17275293600057,\n 41.00561207478813,\n 40.93615901880682,\n 41.262229119542326,\n 41.13725861501667,\n 41.09717253161587,\n 41.00904132045877,\n 41.07282829658782,\n 41.05537707392786,\n 40.93577296386327,\n 41.12703585412867,\n 40.9283205881505,\n 40.98909875730178,\n 40.97038257345734,\n 40.950582079636554,\n 41.064906418223565,\n 41.18349794193802,\n 41.04540160989496,\n 40.805163119023106,\n 40.905948323550845,\n 41.041794159240816,\n 41.02708079281843,\n 41.126153681371086,\n 40.8312512133265,\n 40.950466693874084,\n 41.078435300068946,\n 40.9658844507561,\n 40.7836278109506,\n 41.081304250210295,\n 41.0386874466632,\n 40.95520419683887,\n 40.87659916052516,\n 41.08627263117399,\n 41.01971003724696,\n 41.123179832585045,\n 40.994288872650365,\n 40.984855537616426,\n 41.09295311382392,\n 41.05925454159439,\n 41.04907885950035,\n 40.82547643722357,\n 40.93932710908297,\n 40.94900032653577,\n 41.02989776210242,\n 41.03484260320455,\n 40.91515098670019,\n 41.12364321653507,\n 40.98597635656909,\n 40.9776185360359,\n 40.961028656403585,\n 40.89000577123745,\n 40.988310956259866,\n 41.113705893496316,\n 41.00617895198503,\n 40.92151478056124,\n 41.02789982608748,\n 41.07007750303253,\n 41.04274767636448,\n 41.02861233332036,\n 41.21847129374493,\n 40.85596167807531,\n 41.04102672153037,\n 40.99394178126976,\n 41.02088377332443,\n 41.00815228897855,\n 40.98911869755908,\n 40.93060409083994,\n 40.807973642840565,\n 40.95703058143036,\n 40.847728952989364,\n 41.089838797763925,\n 40.92032152488834,\n 41.04983810834664,\n 41.06059397472846,\n 40.86945114094106,\n 41.006047164474104,\n 40.8822274158111,\n 40.97244670221252,\n 41.10066409853928,\n 40.872925103623096,\n 41.08562814889,\n 41.08976867657817,\n 41.03498457746296,\n 41.01044322363784,\n 40.956920951034085,\n 41.17056013921681,\n 41.0139674901332,\n 41.00798823049558,\n 41.028073087525456,\n 40.93451096212161,\n 41.00131187064384,\n 40.971723985417796,\n 40.88252585974098,\n 41.07714841518824,\n 40.947039370581045,\n 41.05642825392711,\n 40.78612444494209,\n 40.92050042455388,\n 40.88387400487796,\n 41.011779417161726,\n 41.05286581313921,\n 41.14396855194751,\n 40.955883615301204,\n 40.83138918706563,\n 41.03553645896243,\n 41.13060177790649,\n 41.10190198282219,\n 41.13612087137459,\n 40.959176410430054,\n 41.06190723771774,\n 41.05692146559691,\n 41.017255118220966,\n 40.84358879931301,\n 40.86066771382921,\n 41.002000072613924,\n 41.01662703131422,\n 41.14260476875589,\n 41.032740280453055,\n 41.00207988682993,\n 41.07609545611302,\n 40.820068566050935,\n 40.89147505002122,\n 41.26259518327699,\n 40.893246368833836,\n 40.978803192805564,\n 41.00641308475908,\n 41.0441968164665,\n 41.06426617032327,\n 40.96258190411641,\n 40.89512624357661,\n 40.81699847721931,\n 41.01887331941471,\n 41.06700472716163,\n 40.87559868914873,\n 41.22696578453761,\n 41.01735744047901,\n 40.93143092611946,\n 40.94168941452244,\n 41.12878552665322,\n 41.01997251448318,\n 41.0501198961651,\n 41.00818867149021,\n 40.97888738430492,\n 40.95047956495258,\n 40.76429337935561,\n 41.07772108289529,\n 41.059893531153556,\n 41.02466753047102,\n 40.88759038371982,\n 41.01029065746375,\n 41.04755276455275,\n 41.113807567470324,\n 41.06354872061993,\n 41.0722434378956,\n 41.08491957020115,\n 41.151745629069374,\n 40.94394931894429,\n 40.99156678530289,\n 40.92966631389365,\n 40.835066636059445,\n 40.95574943799808,\n 40.91781478378394,\n 41.11255410427131,\n 40.92864421845461,\n 40.99123333086076,\n 40.98920259044123,\n 40.97833737030705,\n 40.879459472824706,\n 41.16254021322769,\n 40.94827246081501,\n 40.96757372691303,\n 40.99307152847499,\n 41.03704062416944,\n 41.01679202877374,\n 40.93144674720913,\n 40.9873739850731,\n 40.87414931236971,\n 40.99035347216951,\n 40.99401799081611,\n 40.97147852289256,\n 40.96591642561706,\n 40.98485305674168,\n 41.05064568031161,\n 41.02346078932764,\n 41.07295501168853,\n 40.98093951142892,\n 40.84162933483317,\n 40.71440106626188,\n 41.05258415944448,\n 40.9387571793707,\n 41.04627256459751,\n 41.22820697688957,\n 40.89286018043545,\n 41.001281658002114,\n 41.0879878280656,\n 40.89459392331062,\n 40.90035580614021,\n 40.96837749365161,\n 41.104435739839566,\n 40.962933222770516,\n 40.92770940316873,\n 40.90626960756315,\n 41.15617811675728,\n 40.94920807594026,\n 40.985400884614265,\n 41.07836426146095,\n 40.94751578139735,\n 41.10052756966793,\n 41.01486863437205,\n 40.92375061796416,\n 41.15338592537616,\n 40.97084026425548,\n 41.161449384533555,\n 41.02990593108425,\n 40.98261618018348,\n 40.88099770205407,\n 40.88437081054654,\n 41.12204577379285,\n 41.03368546653535,\n 40.83571175672614,\n ...]"
     },
     "metadata": {},
     "output_type": "execute_result",
     "execution_count": 46
    }
   ],
   "source": [
    "muestra_promedio = []\n",
    "tamano = 5000\n",
    "for i in range(0, tamano):\n",
    "    muestra_promedio.append(poblacion.sample(n=100).mean().values[0])\n",
    "muestra_promedio"
   ],
   "metadata": {
    "collapsed": false,
    "pycharm": {
     "name": "#%%\n",
     "is_executing": false
    }
   }
  },
  {
   "cell_type": "code",
   "execution_count": 47,
   "outputs": [
    {
     "data": {
      "text/plain": "<Figure size 432x288 with 1 Axes>",
      "image/png": "[encoded data removed]"
     },
     "metadata": {
      "needs_background": "light"
     },
     "output_type": "display_data"
    }
   ],
   "source": [
    "fig, ax = plt.subplots()\n",
    "ax.hist(muestra_promedio, bins=50, alpha=0.5)\n",
    "ax.set_xlabel('Valor promedio')\n",
    "ax.set_ylabel('Frecuencia')\n",
    "ax.grid()"
   ],
   "metadata": {
    "collapsed": false,
    "pycharm": {
     "name": "#%%\n",
     "is_executing": false
    }
   }
  }
 ],
 "metadata": {
  "kernelspec": {
   "display_name": "Python 3",
   "language": "python",
   "name": "python3"
  },
  "language_info": {
   "codemirror_mode": {
    "name": "ipython",
    "version": 2
   },
   "file_extension": ".py",
   "mimetype": "text/x-python",
   "name": "python",
   "nbconvert_exporter": "python",
   "pygments_lexer": "ipython2",
   "version": "2.7.6"
  },
  "pycharm": {
   "stem_cell": {
    "cell_type": "raw",
    "source": [],
    "metadata": {
     "collapsed": false
    }
   }
  }
 },
 "nbformat": 4,
 "nbformat_minor": 0
}