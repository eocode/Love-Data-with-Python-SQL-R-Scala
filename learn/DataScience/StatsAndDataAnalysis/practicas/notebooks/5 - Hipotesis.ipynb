{
 "cells": [
  {
   "cell_type": "code",
   "execution_count": 3,
   "metadata": {
    "collapsed": true,
    "pycharm": {
     "is_executing": false
    }
   },
   "outputs": [],
   "source": [
    "import pandas as pd\n",
    "import numpy as np\n",
    "%matplotlib inline\n",
    "import seaborn as sns\n",
    "from scipy.stats import expon\n",
    "from scipy.stats import uniform"
   ]
  },
  {
   "cell_type": "code",
   "execution_count": 1,
   "outputs": [
    {
     "data": {
      "text/plain": "[42,\n 35,\n 29,\n 45,\n 41,\n 57,\n 54,\n 47,\n 48,\n 56,\n 47,\n 35,\n 52,\n 31,\n 52,\n 55,\n 57,\n 58,\n 26,\n 29,\n 32,\n 37,\n 32,\n 34,\n 48,\n 20,\n 48,\n 51,\n 27,\n 24,\n 39,\n 40,\n 31,\n 34,\n 23,\n 24,\n 41,\n 58,\n 44,\n 48,\n 31,\n 23,\n 27,\n 55,\n 43,\n 47,\n 30,\n 57,\n 38,\n 51]"
     },
     "metadata": {},
     "output_type": "execute_result",
     "execution_count": 1
    }
   ],
   "source": [
    "muestra = [42, 35, 29, 45, 41, 57, 54, 47, 48, 56, 47, 35, 52, 31, 52, 55, 57, 58, 26, 29, 32, 37, 32, 34, 48, 20, 48, 51, 27, 24, 39, 40, 31, 34, 23, 24, 41, 58, 44, 48, 31, 23, 27, 55, 43, 47, 30, 57, 38, 51]\n",
    "muestra"
   ],
   "metadata": {
    "collapsed": false,
    "pycharm": {
     "name": "#%%\n",
     "is_executing": false
    }
   }
  },
  {
   "cell_type": "code",
   "execution_count": 4,
   "outputs": [
    {
     "data": {
      "text/plain": "50"
     },
     "metadata": {},
     "output_type": "execute_result",
     "execution_count": 4
    }
   ],
   "source": [
    "len(muestra)"
   ],
   "metadata": {
    "collapsed": false,
    "pycharm": {
     "name": "#%%\n",
     "is_executing": false
    }
   }
  },
  {
   "cell_type": "code",
   "execution_count": 5,
   "outputs": [],
   "source": [
    "# Hipotesis\n",
    "media, var, skew, kurt = expon.stats(scale=30, moments='mvsk')"
   ],
   "metadata": {
    "collapsed": false,
    "pycharm": {
     "name": "#%%\n",
     "is_executing": false
    }
   }
  },
  {
   "cell_type": "code",
   "execution_count": 7,
   "outputs": [
    {
     "data": {
      "text/plain": "40.66"
     },
     "metadata": {},
     "output_type": "execute_result",
     "execution_count": 7
    }
   ],
   "source": [
    "# Paso 1: Parametro lambda\n",
    "# Paso 2: Hipotesis\n",
    "mu = 30\n",
    "mu > 30\n",
    "# Paso 3: Mejor estimador\n",
    "# Estimador\n",
    "# Paso 4: Distribución\n",
    "promedio = np.mean(muestra)\n",
    "promedio"
   ],
   "metadata": {
    "collapsed": false,
    "pycharm": {
     "name": "#%%\n",
     "is_executing": false
    }
   }
  },
  {
   "cell_type": "code",
   "execution_count": 43,
   "outputs": [
    {
     "data": {
      "text/plain": "2.5125860958161983"
     },
     "metadata": {},
     "output_type": "execute_result",
     "execution_count": 43
    }
   ],
   "source": [
    "# Paso 5\n",
    "z = (promedio - mu) / np.sqrt(var / 50)\n",
    "z"
   ],
   "metadata": {
    "collapsed": false,
    "pycharm": {
     "name": "#%%\n",
     "is_executing": false
    }
   }
  },
  {
   "cell_type": "code",
   "execution_count": 44,
   "outputs": [
    {
     "data": {
      "text/plain": "0.05"
     },
     "metadata": {},
     "output_type": "execute_result",
     "execution_count": 44
    }
   ],
   "source": [
    "# Paso 6\n",
    "alpha = 0.05\n",
    "alpha"
   ],
   "metadata": {
    "collapsed": false,
    "pycharm": {
     "name": "#%%\n",
     "is_executing": false
    }
   }
  },
  {
   "cell_type": "code",
   "execution_count": 45,
   "outputs": [
    {
     "data": {
      "text/plain": "array([ 0.27610379,  0.61130915,  0.91239505, ..., -1.07844795,\n        0.61161853, -0.75737181])"
     },
     "metadata": {},
     "output_type": "execute_result",
     "execution_count": 45
    }
   ],
   "source": [
    "# Criterios de rechazo\n",
    "from scipy.stats import norm\n",
    "data_norm = norm.rvs( size=1000000 )\n",
    "data_norm"
   ],
   "metadata": {
    "collapsed": false,
    "pycharm": {
     "name": "#%%\n",
     "is_executing": false
    }
   }
  },
  {
   "cell_type": "code",
   "execution_count": 46,
   "outputs": [
    {
     "data": {
      "text/plain": "Text(0.5, 1.0, 'Distribución normal')"
     },
     "metadata": {},
     "output_type": "execute_result",
     "execution_count": 46
    },
    {
     "data": {
      "text/plain": "<Figure size 432x288 with 1 Axes>",
      "image/png": "[encoded data removed]"
     },
     "metadata": {
      "needs_background": "light"
     },
     "output_type": "display_data"
    }
   ],
   "source": [
    "ax = sns.distplot(data_norm, bins=500, kde=False, color='blue')\n",
    "ax.set_title('Distribución normal')"
   ],
   "metadata": {
    "collapsed": false,
    "pycharm": {
     "name": "#%%\n",
     "is_executing": false
    }
   }
  },
  {
   "cell_type": "code",
   "execution_count": 47,
   "outputs": [
    {
     "data": {
      "text/plain": "1.6448536269514722"
     },
     "metadata": {},
     "output_type": "execute_result",
     "execution_count": 47
    }
   ],
   "source": [
    "valor_critico = norm.ppf(1-alpha, loc = 0, scale=1)\n",
    "valor_critico"
   ],
   "metadata": {
    "collapsed": false,
    "pycharm": {
     "name": "#%%\n",
     "is_executing": false
    }
   }
  },
  {
   "cell_type": "code",
   "execution_count": 48,
   "outputs": [
    {
     "data": {
      "text/plain": "<matplotlib.legend.Legend at 0x1ed6ac23dc8>"
     },
     "metadata": {},
     "output_type": "execute_result",
     "execution_count": 48
    },
    {
     "data": {
      "text/plain": "<Figure size 432x288 with 1 Axes>",
      "image/png": "[encoded data removed]"
     },
     "metadata": {
      "needs_background": "light"
     },
     "output_type": "display_data"
    }
   ],
   "source": [
    "ax = sns.distplot(data_norm, bins=500, kde = False, color='blue')\n",
    "ax.set_title('Distribución normal')\n",
    "ax.axvline(x = valor_critico, linestyle = '--', label='Valor critico')\n",
    "ax.axvline(x = z, linestyle = '--', label='Valor estadístico', color='k')\n",
    "ax.legend()"
   ],
   "metadata": {
    "collapsed": false,
    "pycharm": {
     "name": "#%%\n",
     "is_executing": false
    }
   }
  },
  {
   "cell_type": "code",
   "execution_count": 50,
   "outputs": [
    {
     "data": {
      "text/plain": "(1.8299999999999983, -0.6700000000000017)"
     },
     "metadata": {},
     "output_type": "execute_result",
     "execution_count": 50
    }
   ],
   "source": [
    "# Errores estadísticos\n",
    "muestra\n",
    "#\n",
    "mu1 = 37\n",
    "mu2 = 42\n",
    "promedio = np.mean(muestra)\n",
    "promedio\n",
    "desv = 2\n",
    "z_1 = (promedio - mu1)/desv\n",
    "z_2 = (promedio - mu2)/desv\n",
    "z_1, z_2"
   ],
   "metadata": {
    "collapsed": false,
    "pycharm": {
     "name": "#%%\n",
     "is_executing": false
    }
   }
  },
  {
   "cell_type": "code",
   "execution_count": 51,
   "outputs": [],
   "source": [
    "from scipy.stats import norm\n",
    "data1 = norm.rvs(loc = mu1, scale=desv, size = 1000000)\n",
    "data2 = norm.rvs(loc = mu2, scale=desv, size = 1000000)"
   ],
   "metadata": {
    "collapsed": false,
    "pycharm": {
     "name": "#%%\n",
     "is_executing": false
    }
   }
  },
  {
   "cell_type": "code",
   "execution_count": 54,
   "outputs": [
    {
     "data": {
      "text/plain": "<matplotlib.legend.Legend at 0x1ed6ea5af48>"
     },
     "metadata": {},
     "output_type": "execute_result",
     "execution_count": 54
    },
    {
     "data": {
      "text/plain": "<Figure size 432x288 with 1 Axes>",
      "image/png": "[encoded data removed]"
     },
     "metadata": {
      "needs_background": "light"
     },
     "output_type": "display_data"
    }
   ],
   "source": [
    "ax = sns.distplot(data1, bins=500, kde=True, color='blue')\n",
    "ax = sns.distplot(data2, bins=500, kde=True, color='red')\n",
    "ax.axvline(x = promedio, c='k', linestyle='--', label='promedio muestral')\n",
    "ax.legend()"
   ],
   "metadata": {
    "collapsed": false,
    "pycharm": {
     "name": "#%%\n",
     "is_executing": false
    }
   }
  },
  {
   "cell_type": "code",
   "execution_count": 55,
   "outputs": [
    {
     "data": {
      "text/plain": "0.03362496941962845"
     },
     "metadata": {},
     "output_type": "execute_result",
     "execution_count": 55
    }
   ],
   "source": [
    "# Error tipo_1: p rechazar h0 cuando está es verdadera\n",
    "p_prom_mu1 = norm.cdf(z_1)\n",
    "1 - p_prom_mu1"
   ],
   "metadata": {
    "collapsed": false,
    "pycharm": {
     "name": "#%%\n",
     "is_executing": false
    }
   }
  },
  {
   "cell_type": "code",
   "execution_count": 57,
   "outputs": [
    {
     "data": {
      "text/plain": "0.2514288950953095"
     },
     "metadata": {},
     "output_type": "execute_result",
     "execution_count": 57
    }
   ],
   "source": [
    "# Error 2: Probablididad de no rechazar h0 cuando esta es falsa\n",
    "p_prom_mu2 = norm.cdf(z_2)\n",
    "p_prom_mu2"
   ],
   "metadata": {
    "collapsed": false,
    "pycharm": {
     "name": "#%%\n",
     "is_executing": false
    }
   }
  },
  {
   "cell_type": "code",
   "execution_count": 60,
   "outputs": [
    {
     "data": {
      "text/plain": "[4046,\n 2578,\n 3796,\n 3412,\n 3315,\n 3228,\n 3666,\n 3877,\n 3154,\n 4062,\n 4365,\n 3776,\n 3761,\n 2587,\n 2911,\n 3184,\n 3810,\n 4459,\n 3385,\n 3899,\n 3602,\n 2701,\n 2821,\n 2790,\n 2557,\n 2540,\n 4119,\n 2712,\n 2743,\n 2713,\n 4466,\n 3937,\n 3871,\n 4427,\n 3177,\n 2556,\n 2903,\n 3522,\n 4155,\n 4010,\n 4453,\n 3080,\n 3008,\n 3865,\n 3356,\n 2799,\n 3308,\n 2759,\n 4347,\n 2576,\n 4075,\n 3333,\n 2936,\n 3746,\n 3334,\n 3940,\n 4113,\n 4220,\n 3580,\n 3922]"
     },
     "metadata": {},
     "output_type": "execute_result",
     "execution_count": 60
    }
   ],
   "source": [
    "# Intervalos de confianza\n",
    "Muestra = [4046, 2578, 3796, 3412, 3315, 3228, 3666, 3877, 3154, 4062, 4365, 3776, 3761, 2587, 2911, 3184, 3810, 4459, 3385, 3899, 3602, 2701, 2821, 2790, 2557, 2540, 4119, 2712, 2743, 2713, 4466, 3937, 3871, 4427, 3177, 2556, 2903, 3522, 4155, 4010, 4453, 3080, 3008, 3865, 3356, 2799, 3308, 2759, 4347, 2576, 4075, 3333, 2936, 3746, 3334, 3940, 4113, 4220, 3580, 3922]\n",
    "Muestra"
   ],
   "metadata": {
    "collapsed": false,
    "pycharm": {
     "name": "#%%\n",
     "is_executing": false
    }
   }
  },
  {
   "cell_type": "code",
   "execution_count": 62,
   "outputs": [
    {
     "data": {
      "text/plain": "(-1.6448536269514729, 1.6448536269514722)"
     },
     "metadata": {},
     "output_type": "execute_result",
     "execution_count": 62
    }
   ],
   "source": [
    "from scipy.stats import norm\n",
    "# Tolerancia al error\n",
    "alpha = 0.05\n",
    "lim_inf = norm.ppf(alpha/1)\n",
    "lim_sup = norm.ppf(1 - (alpha/1))\n",
    "lim_inf, lim_sup"
   ],
   "metadata": {
    "collapsed": false,
    "pycharm": {
     "name": "#%%\n",
     "is_executing": false
    }
   }
  },
  {
   "cell_type": "code",
   "execution_count": 63,
   "outputs": [
    {
     "data": {
      "text/plain": "60"
     },
     "metadata": {},
     "output_type": "execute_result",
     "execution_count": 63
    }
   ],
   "source": [
    "promedio = np.mean(Muestra)\n",
    "desviacion = np.std(Muestra)\n",
    "len(Muestra)"
   ],
   "metadata": {
    "collapsed": false,
    "pycharm": {
     "name": "#%%\n",
     "is_executing": false
    }
   }
  },
  {
   "cell_type": "code",
   "execution_count": 64,
   "outputs": [
    {
     "data": {
      "text/plain": "(2494.1372815063205, 4450.629385160346)"
     },
     "metadata": {},
     "output_type": "execute_result",
     "execution_count": 64
    }
   ],
   "source": [
    "lim_inf = lim_inf*desviacion + promedio\n",
    "lim_sup = lim_sup*desviacion + promedio\n",
    "lim_inf, lim_sup"
   ],
   "metadata": {
    "collapsed": false,
    "pycharm": {
     "name": "#%%\n",
     "is_executing": false
    }
   }
  }
 ],
 "metadata": {
  "kernelspec": {
   "display_name": "Python 3",
   "language": "python",
   "name": "python3"
  },
  "language_info": {
   "codemirror_mode": {
    "name": "ipython",
    "version": 2
   },
   "file_extension": ".py",
   "mimetype": "text/x-python",
   "name": "python",
   "nbconvert_exporter": "python",
   "pygments_lexer": "ipython2",
   "version": "2.7.6"
  },
  "pycharm": {
   "stem_cell": {
    "cell_type": "raw",
    "source": [],
    "metadata": {
     "collapsed": false
    }
   }
  }
 },
 "nbformat": 4,
 "nbformat_minor": 0
}