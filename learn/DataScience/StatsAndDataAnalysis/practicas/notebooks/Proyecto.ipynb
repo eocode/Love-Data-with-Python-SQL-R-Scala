{
 "cells": [
  {
   "cell_type": "code",
   "execution_count": 2,
   "metadata": {
    "collapsed": true,
    "pycharm": {
     "name": "#%%\n",
     "is_executing": false
    }
   },
   "outputs": [],
   "source": [
    "import pandas as pd\n",
    "import numpy as np\n",
    "import seaborn as sns\n",
    "import os"
   ]
  },
  {
   "cell_type": "code",
   "execution_count": 7,
   "outputs": [
    {
     "data": {
      "text/plain": "   Unnamed: 0  PassengerId  Survived  \\\n0           0            1         0   \n1           2            3         1   \n2           3            4         1   \n3           4            5         0   \n4           6            7         0   \n\n                                           Name   Age  SibSp  Parch  \\\n0                       Braund, Mr. Owen Harris  22.0      1      0   \n1                        Heikkinen, Miss. Laina  26.0      0      0   \n2  Futrelle, Mrs. Jacques Heath (Lily May Peel)  35.0      1      0   \n3                      Allen, Mr. William Henry  35.0      0      0   \n4                       McCarthy, Mr. Timothy J  54.0      0      0   \n\n             Ticket     Fare  is-Pclass-1  is-Pclass-2  is-Sex-male  \\\n0         A/5 21171   7.2500            0            0            1   \n1  STON/O2. 3101282   7.9250            0            0            0   \n2            113803  53.1000            1            0            0   \n3            373450   8.0500            0            0            1   \n4             17463  51.8625            1            0            1   \n\n   is-Embarked-S  is-Embarked-C  family_size  \n0              1              0            1  \n1              1              0            0  \n2              1              0            1  \n3              1              0            0  \n4              1              0            0  ",
      "text/html": "<div>\n<style scoped>\n    .dataframe tbody tr th:only-of-type {\n        vertical-align: middle;\n    }\n\n    .dataframe tbody tr th {\n        vertical-align: top;\n    }\n\n    .dataframe thead th {\n        text-align: right;\n    }\n</style>\n<table border=\"1\" class=\"dataframe\">\n  <thead>\n    <tr style=\"text-align: right;\">\n      <th></th>\n      <th>Unnamed: 0</th>\n      <th>PassengerId</th>\n      <th>Survived</th>\n      <th>Name</th>\n      <th>Age</th>\n      <th>SibSp</th>\n      <th>Parch</th>\n      <th>Ticket</th>\n      <th>Fare</th>\n      <th>is-Pclass-1</th>\n      <th>is-Pclass-2</th>\n      <th>is-Sex-male</th>\n      <th>is-Embarked-S</th>\n      <th>is-Embarked-C</th>\n      <th>family_size</th>\n    </tr>\n  </thead>\n  <tbody>\n    <tr>\n      <th>0</th>\n      <td>0</td>\n      <td>1</td>\n      <td>0</td>\n      <td>Braund, Mr. Owen Harris</td>\n      <td>22.0</td>\n      <td>1</td>\n      <td>0</td>\n      <td>A/5 21171</td>\n      <td>7.2500</td>\n      <td>0</td>\n      <td>0</td>\n      <td>1</td>\n      <td>1</td>\n      <td>0</td>\n      <td>1</td>\n    </tr>\n    <tr>\n      <th>1</th>\n      <td>2</td>\n      <td>3</td>\n      <td>1</td>\n      <td>Heikkinen, Miss. Laina</td>\n      <td>26.0</td>\n      <td>0</td>\n      <td>0</td>\n      <td>STON/O2. 3101282</td>\n      <td>7.9250</td>\n      <td>0</td>\n      <td>0</td>\n      <td>0</td>\n      <td>1</td>\n      <td>0</td>\n      <td>0</td>\n    </tr>\n    <tr>\n      <th>2</th>\n      <td>3</td>\n      <td>4</td>\n      <td>1</td>\n      <td>Futrelle, Mrs. Jacques Heath (Lily May Peel)</td>\n      <td>35.0</td>\n      <td>1</td>\n      <td>0</td>\n      <td>113803</td>\n      <td>53.1000</td>\n      <td>1</td>\n      <td>0</td>\n      <td>0</td>\n      <td>1</td>\n      <td>0</td>\n      <td>1</td>\n    </tr>\n    <tr>\n      <th>3</th>\n      <td>4</td>\n      <td>5</td>\n      <td>0</td>\n      <td>Allen, Mr. William Henry</td>\n      <td>35.0</td>\n      <td>0</td>\n      <td>0</td>\n      <td>373450</td>\n      <td>8.0500</td>\n      <td>0</td>\n      <td>0</td>\n      <td>1</td>\n      <td>1</td>\n      <td>0</td>\n      <td>0</td>\n    </tr>\n    <tr>\n      <th>4</th>\n      <td>6</td>\n      <td>7</td>\n      <td>0</td>\n      <td>McCarthy, Mr. Timothy J</td>\n      <td>54.0</td>\n      <td>0</td>\n      <td>0</td>\n      <td>17463</td>\n      <td>51.8625</td>\n      <td>1</td>\n      <td>0</td>\n      <td>1</td>\n      <td>1</td>\n      <td>0</td>\n      <td>0</td>\n    </tr>\n  </tbody>\n</table>\n</div>"
     },
     "metadata": {},
     "output_type": "execute_result",
     "execution_count": 7
    }
   ],
   "source": [
    "df = pd.read_csv('../data/titanic-master-table.csv')\n",
    "df.head()"
   ],
   "metadata": {
    "collapsed": false,
    "pycharm": {
     "name": "#%%\n",
     "is_executing": false
    }
   }
  },
  {
   "cell_type": "code",
   "execution_count": 8,
   "outputs": [
    {
     "data": {
      "text/plain": "613"
     },
     "metadata": {},
     "output_type": "execute_result",
     "execution_count": 8
    }
   ],
   "source": [
    "len(df)"
   ],
   "metadata": {
    "collapsed": false,
    "pycharm": {
     "name": "#%%\n",
     "is_executing": false
    }
   }
  },
  {
   "cell_type": "code",
   "execution_count": 9,
   "outputs": [
    {
     "data": {
      "text/plain": "       Unnamed: 0  PassengerId    Survived         Age       SibSp  \\\ncount  613.000000   613.000000  613.000000  613.000000  613.000000   \nmean   447.641109   448.641109    0.353997   28.946574    0.487765   \nstd    263.229444   263.229444    0.478599   14.368139    0.955854   \nmin      0.000000     1.000000    0.000000    0.420000    0.000000   \n25%    210.000000   211.000000    0.000000   20.000000    0.000000   \n50%    447.000000   448.000000    0.000000   28.000000    0.000000   \n75%    682.000000   683.000000    1.000000   37.000000    1.000000   \nmax    890.000000   891.000000    1.000000   80.000000    5.000000   \n\n            Parch        Fare  is-Pclass-1  is-Pclass-2  is-Sex-male  \\\ncount  613.000000  613.000000   613.000000   613.000000   613.000000   \nmean     0.401305   18.707565     0.146819     0.274062     0.673736   \nstd      0.849143   13.767907     0.354214     0.446405     0.469228   \nmin      0.000000    0.000000     0.000000     0.000000     0.000000   \n25%      0.000000    7.925000     0.000000     0.000000     0.000000   \n50%      0.000000   13.000000     0.000000     0.000000     1.000000   \n75%      0.000000   26.250000     0.000000     1.000000     1.000000   \nmax      6.000000   65.000000     1.000000     1.000000     1.000000   \n\n       is-Embarked-S  is-Embarked-C  family_size  \ncount     613.000000     613.000000   613.000000  \nmean        0.820555       0.137031     0.889070  \nstd         0.384038       0.344161     1.513802  \nmin         0.000000       0.000000     0.000000  \n25%         1.000000       0.000000     0.000000  \n50%         1.000000       0.000000     0.000000  \n75%         1.000000       0.000000     1.000000  \nmax         1.000000       1.000000     7.000000  ",
      "text/html": "<div>\n<style scoped>\n    .dataframe tbody tr th:only-of-type {\n        vertical-align: middle;\n    }\n\n    .dataframe tbody tr th {\n        vertical-align: top;\n    }\n\n    .dataframe thead th {\n        text-align: right;\n    }\n</style>\n<table border=\"1\" class=\"dataframe\">\n  <thead>\n    <tr style=\"text-align: right;\">\n      <th></th>\n      <th>Unnamed: 0</th>\n      <th>PassengerId</th>\n      <th>Survived</th>\n      <th>Age</th>\n      <th>SibSp</th>\n      <th>Parch</th>\n      <th>Fare</th>\n      <th>is-Pclass-1</th>\n      <th>is-Pclass-2</th>\n      <th>is-Sex-male</th>\n      <th>is-Embarked-S</th>\n      <th>is-Embarked-C</th>\n      <th>family_size</th>\n    </tr>\n  </thead>\n  <tbody>\n    <tr>\n      <th>count</th>\n      <td>613.000000</td>\n      <td>613.000000</td>\n      <td>613.000000</td>\n      <td>613.000000</td>\n      <td>613.000000</td>\n      <td>613.000000</td>\n      <td>613.000000</td>\n      <td>613.000000</td>\n      <td>613.000000</td>\n      <td>613.000000</td>\n      <td>613.000000</td>\n      <td>613.000000</td>\n      <td>613.000000</td>\n    </tr>\n    <tr>\n      <th>mean</th>\n      <td>447.641109</td>\n      <td>448.641109</td>\n      <td>0.353997</td>\n      <td>28.946574</td>\n      <td>0.487765</td>\n      <td>0.401305</td>\n      <td>18.707565</td>\n      <td>0.146819</td>\n      <td>0.274062</td>\n      <td>0.673736</td>\n      <td>0.820555</td>\n      <td>0.137031</td>\n      <td>0.889070</td>\n    </tr>\n    <tr>\n      <th>std</th>\n      <td>263.229444</td>\n      <td>263.229444</td>\n      <td>0.478599</td>\n      <td>14.368139</td>\n      <td>0.955854</td>\n      <td>0.849143</td>\n      <td>13.767907</td>\n      <td>0.354214</td>\n      <td>0.446405</td>\n      <td>0.469228</td>\n      <td>0.384038</td>\n      <td>0.344161</td>\n      <td>1.513802</td>\n    </tr>\n    <tr>\n      <th>min</th>\n      <td>0.000000</td>\n      <td>1.000000</td>\n      <td>0.000000</td>\n      <td>0.420000</td>\n      <td>0.000000</td>\n      <td>0.000000</td>\n      <td>0.000000</td>\n      <td>0.000000</td>\n      <td>0.000000</td>\n      <td>0.000000</td>\n      <td>0.000000</td>\n      <td>0.000000</td>\n      <td>0.000000</td>\n    </tr>\n    <tr>\n      <th>25%</th>\n      <td>210.000000</td>\n      <td>211.000000</td>\n      <td>0.000000</td>\n      <td>20.000000</td>\n      <td>0.000000</td>\n      <td>0.000000</td>\n      <td>7.925000</td>\n      <td>0.000000</td>\n      <td>0.000000</td>\n      <td>0.000000</td>\n      <td>1.000000</td>\n      <td>0.000000</td>\n      <td>0.000000</td>\n    </tr>\n    <tr>\n      <th>50%</th>\n      <td>447.000000</td>\n      <td>448.000000</td>\n      <td>0.000000</td>\n      <td>28.000000</td>\n      <td>0.000000</td>\n      <td>0.000000</td>\n      <td>13.000000</td>\n      <td>0.000000</td>\n      <td>0.000000</td>\n      <td>1.000000</td>\n      <td>1.000000</td>\n      <td>0.000000</td>\n      <td>0.000000</td>\n    </tr>\n    <tr>\n      <th>75%</th>\n      <td>682.000000</td>\n      <td>683.000000</td>\n      <td>1.000000</td>\n      <td>37.000000</td>\n      <td>1.000000</td>\n      <td>0.000000</td>\n      <td>26.250000</td>\n      <td>0.000000</td>\n      <td>1.000000</td>\n      <td>1.000000</td>\n      <td>1.000000</td>\n      <td>0.000000</td>\n      <td>1.000000</td>\n    </tr>\n    <tr>\n      <th>max</th>\n      <td>890.000000</td>\n      <td>891.000000</td>\n      <td>1.000000</td>\n      <td>80.000000</td>\n      <td>5.000000</td>\n      <td>6.000000</td>\n      <td>65.000000</td>\n      <td>1.000000</td>\n      <td>1.000000</td>\n      <td>1.000000</td>\n      <td>1.000000</td>\n      <td>1.000000</td>\n      <td>7.000000</td>\n    </tr>\n  </tbody>\n</table>\n</div>"
     },
     "metadata": {},
     "output_type": "execute_result",
     "execution_count": 9
    }
   ],
   "source": [
    "df.describe()"
   ],
   "metadata": {
    "collapsed": false,
    "pycharm": {
     "name": "#%%\n",
     "is_executing": false
    }
   }
  },
  {
   "cell_type": "code",
   "execution_count": 10,
   "outputs": [
    {
     "data": {
      "text/plain": "Unnamed: 0       0.0\nPassengerId      0.0\nSurvived         0.0\nName             0.0\nAge              0.0\nSibSp            0.0\nParch            0.0\nTicket           0.0\nFare             0.0\nis-Pclass-1      0.0\nis-Pclass-2      0.0\nis-Sex-male      0.0\nis-Embarked-S    0.0\nis-Embarked-C    0.0\nfamily_size      0.0\ndtype: float64"
     },
     "metadata": {},
     "output_type": "execute_result",
     "execution_count": 10
    }
   ],
   "source": [
    "df.isna().sum(axis=0)/len(df)"
   ],
   "metadata": {
    "collapsed": false,
    "pycharm": {
     "name": "#%%\n",
     "is_executing": false
    }
   }
  },
  {
   "cell_type": "code",
   "execution_count": 11,
   "outputs": [],
   "source": [
    "df =df[ df.Age.notna() ]"
   ],
   "metadata": {
    "collapsed": false,
    "pycharm": {
     "name": "#%%\n",
     "is_executing": false
    }
   }
  },
  {
   "cell_type": "code",
   "execution_count": 16,
   "outputs": [
    {
     "data": {
      "text/plain": "Index(['Unnamed: 0', 'PassengerId', 'Survived', 'Name', 'Age', 'SibSp',\n       'Parch', 'Ticket', 'Fare', 'is-Pclass-1', 'is-Pclass-2', 'is-Sex-male',\n       'is-Embarked-S', 'is-Embarked-C', 'family_size'],\n      dtype='object')"
     },
     "metadata": {},
     "output_type": "execute_result",
     "execution_count": 16
    }
   ],
   "source": [
    "df.columns"
   ],
   "metadata": {
    "collapsed": false,
    "pycharm": {
     "name": "#%%\n",
     "is_executing": false
    }
   }
  },
  {
   "cell_type": "code",
   "execution_count": 20,
   "outputs": [],
   "source": [
    "# vars_disc = ['Survived','Pclass','Sex','Age','SibSp', 'Parch', 'Embarked']\n",
    "# for i in vars_disc:\n",
    "#     print(df[i].value_counts())\n",
    "\n",
    "vars_cat = ['Pclass', 'Sex', 'Embarked']\n",
    "# One hot encoding\n",
    "def one_hot(df):\n",
    "    for i in vars_cat:\n",
    "        categorias = df[i].value_counts().index\n",
    "        print(categorias)\n",
    "    \n",
    "    for k in categorias:\n",
    "        name = 'is-' + str(i)+'-'+(str(k))\n",
    "        print(name)\n",
    "        df[name] = np.where(df[i] == k,1,0)\n",
    "    \n",
    "    df = df.drop([i], axis=1)"
   ],
   "metadata": {
    "collapsed": false,
    "pycharm": {
     "name": "#%%\n",
     "is_executing": false
    }
   }
  },
  {
   "cell_type": "code",
   "execution_count": 21,
   "outputs": [
    {
     "data": {
      "text/plain": "Index(['Unnamed: 0', 'PassengerId', 'Survived', 'Name', 'Age', 'SibSp',\n       'Parch', 'Ticket', 'Fare', 'is-Pclass-1', 'is-Pclass-2', 'is-Sex-male',\n       'is-Embarked-S', 'is-Embarked-C', 'family_size'],\n      dtype='object')"
     },
     "metadata": {},
     "output_type": "execute_result",
     "execution_count": 21
    }
   ],
   "source": [
    "# Outliers\n",
    "df.columns"
   ],
   "metadata": {
    "collapsed": false,
    "pycharm": {
     "name": "#%%\n",
     "is_executing": false
    }
   }
  },
  {
   "cell_type": "code",
   "execution_count": 24,
   "outputs": [
    {
     "data": {
      "text/plain": "<matplotlib.axes._subplots.AxesSubplot at 0x2a89d106a08>"
     },
     "metadata": {},
     "output_type": "execute_result",
     "execution_count": 24
    },
    {
     "data": {
      "text/plain": "<Figure size 432x288 with 2 Axes>",
      "image/png": "[encoded data removed]"
     },
     "metadata": {
      "needs_background": "light"
     },
     "output_type": "display_data"
    }
   ],
   "source": [
    "df['family_size'] = df['SibSp'] + df['Parch']\n",
    "corr = df.corr()\n",
    "sns.heatmap(corr, yticklabels=corr.columns,xticklabels=corr.columns)"
   ],
   "metadata": {
    "collapsed": false,
    "pycharm": {
     "name": "#%%\n",
     "is_executing": false
    }
   }
  },
  {
   "cell_type": "code",
   "execution_count": 51,
   "outputs": [
    {
     "data": {
      "text/plain": "Index(['Unnamed: 0', 'PassengerId', 'Survived', 'Name', 'Age', 'SibSp',\n       'Parch', 'Ticket', 'Fare', 'is-Pclass-1', 'is-Pclass-2', 'is-Sex-male',\n       'is-Embarked-S', 'is-Embarked-C', 'family_size'],\n      dtype='object')"
     },
     "metadata": {},
     "output_type": "execute_result",
     "execution_count": 51
    }
   ],
   "source": [
    "df.columns"
   ],
   "metadata": {
    "collapsed": false,
    "pycharm": {
     "name": "#%%\n",
     "is_executing": false
    }
   }
  },
  {
   "cell_type": "code",
   "execution_count": 53,
   "outputs": [],
   "source": [
    "# Analisis predictivo\n",
    "y = df['Survived']\n",
    "x = df[['Age', 'SibSp', 'Parch', 'Fare', 'is-Pclass-1', 'is-Pclass-2', 'is-Sex-male', 'is-Embarked-S', 'is-Embarked-C', 'family_size']]"
   ],
   "metadata": {
    "collapsed": false,
    "pycharm": {
     "name": "#%%\n",
     "is_executing": false
    }
   }
  },
  {
   "cell_type": "code",
   "execution_count": 54,
   "outputs": [],
   "source": [
    "from sklearn.model_selection import train_test_split\n",
    "X_train, X_test, Y_train, Y_test = train_test_split(x,y, test_size=0.15, random_state=1)"
   ],
   "metadata": {
    "collapsed": false,
    "pycharm": {
     "name": "#%%\n",
     "is_executing": false
    }
   }
  },
  {
   "cell_type": "code",
   "execution_count": 65,
   "outputs": [],
   "source": [
    "from sklearn.linear_model import LogisticRegression\n",
    "from sklearn.tree import DecisionTreeClassifier"
   ],
   "metadata": {
    "collapsed": false,
    "pycharm": {
     "name": "#%%\n",
     "is_executing": false
    }
   }
  },
  {
   "cell_type": "code",
   "execution_count": 66,
   "outputs": [
    {
     "data": {
      "text/plain": "[(LogisticRegression(C=1.0, class_weight=None, dual=False, fit_intercept=True,\n                     intercept_scaling=1, l1_ratio=None, max_iter=100,\n                     multi_class='auto', n_jobs=None, penalty='l2',\n                     random_state=None, solver='lbfgs', tol=0.0001, verbose=0,\n                     warm_start=False),\n  'reg-log'),\n (DecisionTreeClassifier(ccp_alpha=0.0, class_weight=None, criterion='gini',\n                         max_depth=None, max_features=None, max_leaf_nodes=None,\n                         min_impurity_decrease=0.0, min_impurity_split=None,\n                         min_samples_leaf=1, min_samples_split=2,\n                         min_weight_fraction_leaf=0.0, presort='deprecated',\n                         random_state=None, splitter='best'),\n  'arbol-class')]"
     },
     "metadata": {},
     "output_type": "execute_result",
     "execution_count": 66
    }
   ],
   "source": [
    "clf = [\n",
    "    (LogisticRegression(), 'reg-log'),\n",
    "    (DecisionTreeClassifier(), 'arbol-class')\n",
    "]\n",
    "clf"
   ],
   "metadata": {
    "collapsed": false,
    "pycharm": {
     "name": "#%%\n",
     "is_executing": false
    }
   }
  },
  {
   "cell_type": "code",
   "execution_count": 67,
   "outputs": [
    {
     "name": "stdout",
     "text": [
      "reg-log\n",
      "Resultado en la prueba del modelo:  79.35 %\n",
      "arbol-class\n",
      "Resultado en la prueba del modelo:  73.91 %\n"
     ],
     "output_type": "stream"
    },
    {
     "name": "stderr",
     "text": [
      "C:\\ProgramData\\Anaconda3\\envs\\Titanic\\lib\\site-packages\\sklearn\\linear_model\\_logistic.py:940: ConvergenceWarning: lbfgs failed to converge (status=1):\n",
      "STOP: TOTAL NO. of ITERATIONS REACHED LIMIT.\n",
      "\n",
      "Increase the number of iterations (max_iter) or scale the data as shown in:\n",
      "    https://scikit-learn.org/stable/modules/preprocessing.html\n",
      "Please also refer to the documentation for alternative solver options:\n",
      "    https://scikit-learn.org/stable/modules/linear_model.html#logistic-regression\n",
      "  extra_warning_msg=_LOGISTIC_SOLVER_CONVERGENCE_MSG)\n"
     ],
     "output_type": "stream"
    }
   ],
   "source": [
    "import joblib\n",
    "from sklearn.metrics import accuracy_score\n",
    "for model, name in clf:\n",
    "    # Entrenar\n",
    "    model.fit(X_train, Y_train)\n",
    "    # Medir\n",
    "    y_pred = model.predict(X_test)\n",
    "    accuracy = accuracy_score(Y_test, y_pred)\n",
    "    print(name)\n",
    "    print('Resultado en la prueba del modelo: ',round(accuracy*100,2),'%')\n",
    "    # Guardar\n",
    "    job_file = 'modelo-'+name+'.pkl'\n",
    "    joblib.dump(model, job_file)"
   ],
   "metadata": {
    "collapsed": false,
    "pycharm": {
     "name": "#%%\n",
     "is_executing": false
    }
   }
  }
 ],
 "metadata": {
  "kernelspec": {
   "display_name": "Python 3",
   "language": "python",
   "name": "python3"
  },
  "language_info": {
   "codemirror_mode": {
    "name": "ipython",
    "version": 2
   },
   "file_extension": ".py",
   "mimetype": "text/x-python",
   "name": "python",
   "nbconvert_exporter": "python",
   "pygments_lexer": "ipython2",
   "version": "2.7.6"
  },
  "pycharm": {
   "stem_cell": {
    "cell_type": "raw",
    "source": [],
    "metadata": {
     "collapsed": false
    }
   }
  }
 },
 "nbformat": 4,
 "nbformat_minor": 0
}