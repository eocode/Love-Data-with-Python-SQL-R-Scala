{
 "cells": [
  {
   "cell_type": "markdown",
   "metadata": {},
   "source": [
    "## Más técnicas de Data Munging"
   ]
  },
  {
   "cell_type": "code",
   "execution_count": 3,
   "metadata": {},
   "outputs": [],
   "source": [
    "import pandas as pd\n",
    "import numpy as np\n",
    "import matplotlib.pyplot as plt"
   ]
  },
  {
   "cell_type": "markdown",
   "metadata": {},
   "source": [
    "## Repasando las distribuciones "
   ]
  },
  {
   "cell_type": "markdown",
   "metadata": {},
   "source": [
    "### Distribución uniforme"
   ]
  },
  {
   "cell_type": "code",
   "execution_count": 9,
   "metadata": {},
   "outputs": [
    {
     "data": {
      "text/plain": [
       "(array([ 99966.,  99701.,  99730.,  99885., 100141.,  99963., 100459.,\n",
       "        100256.,  99265., 100634.]),\n",
       " array([ 1.00002508, 10.90001172, 20.79999837, 30.69998501, 40.59997166,\n",
       "        50.4999583 , 60.39994494, 70.29993159, 80.19991823, 90.09990487,\n",
       "        99.99989152]),\n",
       " <a list of 10 Patch objects>)"
      ]
     },
     "execution_count": 9,
     "metadata": {},
     "output_type": "execute_result"
    },
    {
     "data": {
      "image/png": "[encoded data removed]",
      "text/plain": [
       "<Figure size 432x288 with 1 Axes>"
      ]
     },
     "metadata": {
      "needs_background": "light"
     },
     "output_type": "display_data"
    }
   ],
   "source": [
    "low_lim = 1 # Límite inferior\n",
    "up_lim = 100 # Límite superior\n",
    "samples = 1000000 # Cantidad de muestras\n",
    "uniform_data = np.random.uniform(low_lim, up_lim, samples)\n",
    "plt.hist(uniform_data)"
   ]
  },
  {
   "cell_type": "markdown",
   "metadata": {},
   "source": [
    "### Distribución normal"
   ]
  },
  {
   "cell_type": "code",
   "execution_count": 14,
   "metadata": {},
   "outputs": [
    {
     "data": {
      "text/plain": [
       "(array([1.000e+00, 0.000e+00, 0.000e+00, 0.000e+00, 0.000e+00, 0.000e+00,\n",
       "        0.000e+00, 0.000e+00, 0.000e+00, 0.000e+00, 0.000e+00, 0.000e+00,\n",
       "        0.000e+00, 0.000e+00, 1.000e+00, 3.000e+00, 2.000e+00, 4.000e+00,\n",
       "        3.000e+00, 7.000e+00, 1.300e+01, 1.200e+01, 2.000e+01, 2.100e+01,\n",
       "        3.200e+01, 6.100e+01, 5.400e+01, 8.000e+01, 1.130e+02, 1.270e+02,\n",
       "        1.450e+02, 2.140e+02, 2.370e+02, 3.310e+02, 4.030e+02, 4.970e+02,\n",
       "        6.160e+02, 7.240e+02, 8.430e+02, 1.019e+03, 1.152e+03, 1.281e+03,\n",
       "        1.569e+03, 1.839e+03, 1.995e+03, 2.172e+03, 2.387e+03, 2.616e+03,\n",
       "        2.831e+03, 2.999e+03, 3.239e+03, 3.468e+03, 3.549e+03, 3.626e+03,\n",
       "        3.690e+03, 3.870e+03, 3.826e+03, 3.849e+03, 3.655e+03, 3.736e+03,\n",
       "        3.533e+03, 3.391e+03, 3.276e+03, 3.114e+03, 2.842e+03, 2.636e+03,\n",
       "        2.415e+03, 2.217e+03, 1.920e+03, 1.820e+03, 1.613e+03, 1.383e+03,\n",
       "        1.225e+03, 1.029e+03, 8.900e+02, 7.360e+02, 6.380e+02, 5.080e+02,\n",
       "        3.910e+02, 3.160e+02, 2.680e+02, 2.060e+02, 1.740e+02, 1.340e+02,\n",
       "        1.030e+02, 5.400e+01, 6.900e+01, 4.700e+01, 3.000e+01, 2.300e+01,\n",
       "        2.500e+01, 9.000e+00, 1.000e+01, 8.000e+00, 5.000e+00, 0.000e+00,\n",
       "        4.000e+00, 0.000e+00, 3.000e+00, 3.000e+00]),\n",
       " array([-5.4299713 , -5.33397741, -5.23798352, -5.14198963, -5.04599573,\n",
       "        -4.95000184, -4.85400795, -4.75801406, -4.66202017, -4.56602628,\n",
       "        -4.47003239, -4.3740385 , -4.27804461, -4.18205072, -4.08605683,\n",
       "        -3.99006293, -3.89406904, -3.79807515, -3.70208126, -3.60608737,\n",
       "        -3.51009348, -3.41409959, -3.3181057 , -3.22211181, -3.12611792,\n",
       "        -3.03012403, -2.93413014, -2.83813624, -2.74214235, -2.64614846,\n",
       "        -2.55015457, -2.45416068, -2.35816679, -2.2621729 , -2.16617901,\n",
       "        -2.07018512, -1.97419123, -1.87819734, -1.78220345, -1.68620955,\n",
       "        -1.59021566, -1.49422177, -1.39822788, -1.30223399, -1.2062401 ,\n",
       "        -1.11024621, -1.01425232, -0.91825843, -0.82226454, -0.72627065,\n",
       "        -0.63027675, -0.53428286, -0.43828897, -0.34229508, -0.24630119,\n",
       "        -0.1503073 , -0.05431341,  0.04168048,  0.13767437,  0.23366826,\n",
       "         0.32966215,  0.42565604,  0.52164994,  0.61764383,  0.71363772,\n",
       "         0.80963161,  0.9056255 ,  1.00161939,  1.09761328,  1.19360717,\n",
       "         1.28960106,  1.38559495,  1.48158884,  1.57758273,  1.67357663,\n",
       "         1.76957052,  1.86556441,  1.9615583 ,  2.05755219,  2.15354608,\n",
       "         2.24953997,  2.34553386,  2.44152775,  2.53752164,  2.63351553,\n",
       "         2.72950943,  2.82550332,  2.92149721,  3.0174911 ,  3.11348499,\n",
       "         3.20947888,  3.30547277,  3.40146666,  3.49746055,  3.59345444,\n",
       "         3.68944833,  3.78544222,  3.88143612,  3.97743001,  4.0734239 ,\n",
       "         4.16941779]),\n",
       " <a list of 100 Patch objects>)"
      ]
     },
     "execution_count": 14,
     "metadata": {},
     "output_type": "execute_result"
    },
    {
     "data": {
      "image/png": "[encoded data removed]",
      "text/plain": [
       "<Figure size 432x288 with 1 Axes>"
      ]
     },
     "metadata": {
      "needs_background": "light"
     },
     "output_type": "display_data"
    }
   ],
   "source": [
    "samples = 100000 # Cantidad de muestras\n",
    "normal_data = np.random.randn(samples)\n",
    "plt.hist(normal_data, bins=100)"
   ]
  },
  {
   "cell_type": "markdown",
   "metadata": {},
   "source": [
    "### Distribución normal personalizada"
   ]
  },
  {
   "cell_type": "code",
   "execution_count": 17,
   "metadata": {},
   "outputs": [
    {
     "data": {
      "text/plain": [
       "(array([  1.,   0.,   0.,   1.,   0.,   0.,   1.,   0.,   0.,   0.,   0.,\n",
       "          0.,   0.,   0.,   0.,   0.,   0.,   0.,   0.,   0.,   0.,   0.,\n",
       "          0.,   0.,   0.,   0.,   0.,   0.,   0.,   0.,   0.,   0.,   1.,\n",
       "          0.,   0.,   0.,   0.,   0.,   0.,   0.,   0.,   0.,   0.,   1.,\n",
       "          0.,   0.,   0.,   0.,   0.,   0.,   1.,   0.,   0.,   1.,   1.,\n",
       "          0.,   1.,   0.,   0.,   0.,   1.,   2.,   0.,   1.,   0.,   0.,\n",
       "          0.,   1.,   0.,   0.,   0.,   2.,   1.,   1.,   0.,   1.,   0.,\n",
       "          0.,   1.,   0.,   0.,   2.,   0.,   1.,   1.,   1.,   0.,   2.,\n",
       "          0.,   1.,   1.,   2.,   1.,   0.,   1.,   2.,   1.,   0.,   1.,\n",
       "          2.,   2.,   0.,   1.,   1.,   1.,   1.,   1.,   2.,   1.,   0.,\n",
       "          3.,   3.,   2.,   1.,   3.,   0.,   0.,   2.,   1.,   3.,   2.,\n",
       "          1.,   2.,   2.,   4.,   3.,   0.,   2.,   1.,   2.,   1.,   1.,\n",
       "          4.,   1.,   3.,   4.,   1.,   1.,   5.,   3.,   5.,   3.,   1.,\n",
       "          4.,   2.,   3.,   4.,   3.,   3.,   4.,   2.,   4.,   3.,   8.,\n",
       "          5.,   8.,   8.,   7.,   6.,   3.,  10.,   8.,   8.,  12.,   5.,\n",
       "          3.,   8.,  10.,   9.,   6.,   9.,   7.,   4.,   8.,  12.,   6.,\n",
       "         13.,  11.,   7.,  10.,  11.,  12.,  14.,   7.,   9.,  11.,  12.,\n",
       "          7.,  13.,  15.,  13.,  11.,  14.,  16.,  10.,  19.,  14.,  16.,\n",
       "         18.,  13.,  11.,  19.,  19.,  14.,  18.,  22.,  19.,  18.,  14.,\n",
       "         19.,  19.,  22.,  16.,  22.,  14.,  23.,  30.,  25.,  29.,  24.,\n",
       "         29.,  28.,  25.,  30.,  24.,  29.,  32.,  26.,  26.,  25.,  26.,\n",
       "         37.,  26.,  38.,  42.,  44.,  37.,  26.,  30.,  40.,  27.,  45.,\n",
       "         39.,  34.,  31.,  37.,  47.,  40.,  46.,  32.,  58.,  38.,  33.,\n",
       "         50.,  57.,  43.,  39.,  48.,  58.,  43.,  49.,  46.,  41.,  49.,\n",
       "         55.,  60.,  40.,  55.,  57.,  61.,  67.,  66.,  63.,  53.,  47.,\n",
       "         74.,  68.,  75.,  67.,  77.,  75.,  83.,  69.,  79.,  74.,  71.,\n",
       "         68.,  74.,  74.,  89.,  78.,  87.,  99.,  94.,  94.,  90.,  86.,\n",
       "         73.,  84.,  96.,  84.,  85.,  84.,  95., 102.,  96.,  91., 106.,\n",
       "         97.,  92., 126., 105., 107.,  98., 140., 120., 114., 134., 117.,\n",
       "        114., 130., 124., 141., 140., 126., 144., 125., 134., 130., 153.,\n",
       "        139., 136., 146., 160., 146., 148., 153., 147., 150., 170., 157.,\n",
       "        163., 153., 169., 168., 179., 152., 191., 176., 195., 150., 174.,\n",
       "        160., 172., 170., 168., 191., 199., 205., 186., 164., 197., 184.,\n",
       "        210., 197., 207., 208., 194., 220., 185., 219., 236., 243., 226.,\n",
       "        234., 210., 238., 211., 223., 242., 191., 214., 244., 241., 229.,\n",
       "        215., 242., 239., 251., 244., 225., 236., 256., 275., 240., 242.,\n",
       "        273., 316., 266., 238., 285., 277., 276., 281., 284., 290., 270.,\n",
       "        257., 267., 249., 279., 292., 279., 303., 278., 281., 295., 307.,\n",
       "        294., 327., 267., 330., 327., 324., 346., 326., 275., 295., 349.,\n",
       "        313., 317., 312., 290., 318., 322., 326., 311., 327., 331., 333.,\n",
       "        315., 347., 326., 320., 329., 306., 315., 350., 320., 337., 314.,\n",
       "        337., 377., 344., 319., 384., 312., 323., 339., 336., 347., 361.,\n",
       "        327., 324., 349., 334., 346., 356., 321., 359., 356., 313., 360.,\n",
       "        305., 373., 314., 397., 383., 345., 339., 356., 336., 371., 328.,\n",
       "        372., 355., 366., 359., 323., 354., 378., 362., 350., 358., 342.,\n",
       "        362., 353., 376., 322., 340., 289., 366., 330., 337., 323., 348.,\n",
       "        352., 339., 319., 351., 323., 368., 352., 345., 334., 330., 339.,\n",
       "        316., 353., 339., 302., 318., 325., 318., 357., 352., 330., 311.,\n",
       "        352., 327., 325., 329., 343., 303., 304., 286., 304., 321., 318.,\n",
       "        325., 309., 285., 326., 301., 307., 311., 315., 309., 289., 286.,\n",
       "        270., 278., 310., 285., 297., 302., 288., 275., 277., 291., 276.,\n",
       "        267., 296., 308., 266., 276., 289., 263., 273., 302., 264., 274.,\n",
       "        258., 274., 252., 244., 226., 273., 249., 265., 209., 238., 236.,\n",
       "        235., 239., 196., 229., 244., 260., 229., 227., 224., 226., 246.,\n",
       "        213., 218., 249., 220., 199., 205., 211., 205., 227., 225., 203.,\n",
       "        194., 160., 203., 195., 194., 208., 180., 190., 189., 189., 184.,\n",
       "        191., 172., 180., 184., 170., 136., 177., 164., 170., 143., 152.,\n",
       "        138., 164., 169., 178., 157., 152., 145., 147., 127., 148., 140.,\n",
       "        140., 137., 157., 123., 154., 136., 110., 131., 119., 113., 128.,\n",
       "        121., 135., 109.,  96., 106., 106., 113.,  98., 111., 103., 112.,\n",
       "        106., 121., 100.,  87.,  89., 108., 111.,  98., 104.,  76.,  89.,\n",
       "         88.,  86.,  79.,  84.,  93.,  77.,  82.,  81.,  63.,  86.,  77.,\n",
       "         62.,  65.,  65.,  82.,  77.,  90.,  73.,  62.,  68.,  72.,  62.,\n",
       "         68.,  53.,  70.,  70.,  69.,  62.,  52.,  74.,  49.,  52.,  54.,\n",
       "         50.,  42.,  64.,  54.,  62.,  50.,  48.,  56.,  56.,  49.,  46.,\n",
       "         44.,  44.,  48.,  41.,  36.,  46.,  50.,  43.,  28.,  32.,  40.,\n",
       "         33.,  37.,  34.,  38.,  39.,  31.,  32.,  32.,  29.,  31.,  23.,\n",
       "         25.,  26.,  31.,  40.,  20.,  17.,  27.,  27.,  24.,  29.,  28.,\n",
       "         23.,  21.,  21.,  28.,  26.,  27.,  22.,  17.,  17.,  20.,  12.,\n",
       "         28.,  17.,  20.,  23.,  26.,  11.,  20.,  14.,  22.,  17.,  23.,\n",
       "         15.,  21.,  17.,  16.,   8.,   9.,  12.,  10.,  15.,  12.,  14.,\n",
       "          8.,  11.,  13.,   6.,  13.,   5.,  18.,   4.,  16.,  11.,  11.,\n",
       "         10.,   5.,   9.,   9.,   8.,   6.,   8.,   9.,  11.,   8.,   8.,\n",
       "          8.,   8.,   5.,   5.,   5.,   3.,   4.,   6.,   5.,   8.,   2.,\n",
       "          5.,  11.,   4.,   4.,   4.,   3.,   2.,   5.,   1.,   2.,   5.,\n",
       "          4.,   1.,   4.,   1.,   3.,   3.,   3.,   3.,   1.,   2.,   1.,\n",
       "          1.,   3.,   1.,   1.,   1.,   1.,   5.,   4.,   0.,   1.,   4.,\n",
       "          2.,   3.,   1.,   5.,   2.,   2.,   2.,   0.,   3.,   1.,   5.,\n",
       "          3.,   1.,   2.,   3.,   2.,   3.,   0.,   0.,   1.,   2.,   1.,\n",
       "          1.,   2.,   1.,   0.,   1.,   1.,   1.,   0.,   3.,   0.,   0.,\n",
       "          1.,   1.,   1.,   1.,   0.,   0.,   2.,   1.,   0.,   0.,   3.,\n",
       "          1.,   0.,   0.,   0.,   0.,   1.,   0.,   0.,   0.,   0.,   0.,\n",
       "          0.,   0.,   0.,   0.,   0.,   0.,   1.,   0.,   0.,   1.,   0.,\n",
       "          1.,   0.,   1.,   0.,   0.,   0.,   0.,   0.,   0.,   1.,   0.,\n",
       "          1.,   0.,   0.,   0.,   0.,   0.,   0.,   0.,   0.,   0.,   0.,\n",
       "          0.,   0.,   0.,   0.,   0.,   0.,   0.,   0.,   0.,   0.,   0.,\n",
       "          0.,   0.,   0.,   0.,   0.,   0.,   1.,   0.,   1.,   1.,   0.,\n",
       "          0.,   0.,   0.,   0.,   0.,   0.,   0.,   1.,   1.,   0.,   0.,\n",
       "          0.,   0.,   0.,   0.,   0.,   0.,   0.,   0.,   0.,   0.,   0.,\n",
       "          0.,   0.,   0.,   0.,   0.,   0.,   0.,   0.,   0.,   0.,   0.,\n",
       "          0.,   0.,   0.,   0.,   0.,   0.,   0.,   0.,   0.,   1.]),\n",
       " array([-5.67572296, -5.65369723, -5.63167151, ..., 16.30595144,\n",
       "        16.32797716, 16.35000289]),\n",
       " <a list of 1000 Patch objects>)"
      ]
     },
     "execution_count": 17,
     "metadata": {},
     "output_type": "execute_result"
    },
    {
     "data": {
      "image/png": "[encoded data removed]",
      "text/plain": [
       "<Figure size 432x288 with 1 Axes>"
      ]
     },
     "metadata": {
      "needs_background": "light"
     },
     "output_type": "display_data"
    }
   ],
   "source": [
    "mean = 5 # Media\n",
    "std = 2.5 # Desviación estándar\n",
    "samples = 100000 # Cantidad de muestras\n",
    "normal_data = mean + std * np.random.randn(samples)\n",
    "plt.hist(normal_data, bins=1000)"
   ]
  },
  {
   "cell_type": "markdown",
   "metadata": {},
   "source": [
    "## Aplicando distribuciones a la creación de datasets"
   ]
  },
  {
   "cell_type": "code",
   "execution_count": 20,
   "metadata": {},
   "outputs": [],
   "source": [
    "n_rows = 100000\n",
    "data = pd.DataFrame(\n",
    "    {\n",
    "        'Normal': np.random.randn(n_rows),\n",
    "        'Uniforme' : np.random.uniform(0, 100, n_rows),\n",
    "        'Normal Personalizada': 3 + 1.5 * np.random.randn(n_rows)\n",
    "    }\n",
    ")"
   ]
  },
  {
   "cell_type": "code",
   "execution_count": 21,
   "metadata": {},
   "outputs": [
    {
     "data": {
      "text/html": [
       "<div>\n",
       "<style scoped>\n",
       "    .dataframe tbody tr th:only-of-type {\n",
       "        vertical-align: middle;\n",
       "    }\n",
       "\n",
       "    .dataframe tbody tr th {\n",
       "        vertical-align: top;\n",
       "    }\n",
       "\n",
       "    .dataframe thead th {\n",
       "        text-align: right;\n",
       "    }\n",
       "</style>\n",
       "<table border=\"1\" class=\"dataframe\">\n",
       "  <thead>\n",
       "    <tr style=\"text-align: right;\">\n",
       "      <th></th>\n",
       "      <th>Normal</th>\n",
       "      <th>Uniforme</th>\n",
       "      <th>Normal Personalizada</th>\n",
       "    </tr>\n",
       "  </thead>\n",
       "  <tbody>\n",
       "    <tr>\n",
       "      <th>0</th>\n",
       "      <td>-0.546543</td>\n",
       "      <td>69.752797</td>\n",
       "      <td>5.633491</td>\n",
       "    </tr>\n",
       "    <tr>\n",
       "      <th>1</th>\n",
       "      <td>-0.246884</td>\n",
       "      <td>96.569023</td>\n",
       "      <td>2.371837</td>\n",
       "    </tr>\n",
       "    <tr>\n",
       "      <th>2</th>\n",
       "      <td>2.596548</td>\n",
       "      <td>2.192050</td>\n",
       "      <td>3.660313</td>\n",
       "    </tr>\n",
       "    <tr>\n",
       "      <th>3</th>\n",
       "      <td>-0.904805</td>\n",
       "      <td>25.823467</td>\n",
       "      <td>1.002857</td>\n",
       "    </tr>\n",
       "    <tr>\n",
       "      <th>4</th>\n",
       "      <td>-1.159800</td>\n",
       "      <td>54.753309</td>\n",
       "      <td>1.614011</td>\n",
       "    </tr>\n",
       "  </tbody>\n",
       "</table>\n",
       "</div>"
      ],
      "text/plain": [
       "     Normal   Uniforme  Normal Personalizada\n",
       "0 -0.546543  69.752797              5.633491\n",
       "1 -0.246884  96.569023              2.371837\n",
       "2  2.596548   2.192050              3.660313\n",
       "3 -0.904805  25.823467              1.002857\n",
       "4 -1.159800  54.753309              1.614011"
      ]
     },
     "execution_count": 21,
     "metadata": {},
     "output_type": "execute_result"
    }
   ],
   "source": [
    "data.head()"
   ]
  },
  {
   "cell_type": "code",
   "execution_count": 22,
   "metadata": {},
   "outputs": [
    {
     "data": {
      "text/html": [
       "<div>\n",
       "<style scoped>\n",
       "    .dataframe tbody tr th:only-of-type {\n",
       "        vertical-align: middle;\n",
       "    }\n",
       "\n",
       "    .dataframe tbody tr th {\n",
       "        vertical-align: top;\n",
       "    }\n",
       "\n",
       "    .dataframe thead th {\n",
       "        text-align: right;\n",
       "    }\n",
       "</style>\n",
       "<table border=\"1\" class=\"dataframe\">\n",
       "  <thead>\n",
       "    <tr style=\"text-align: right;\">\n",
       "      <th></th>\n",
       "      <th>Normal</th>\n",
       "      <th>Uniforme</th>\n",
       "      <th>Normal Personalizada</th>\n",
       "    </tr>\n",
       "  </thead>\n",
       "  <tbody>\n",
       "    <tr>\n",
       "      <th>count</th>\n",
       "      <td>100000.000000</td>\n",
       "      <td>100000.000000</td>\n",
       "      <td>100000.000000</td>\n",
       "    </tr>\n",
       "    <tr>\n",
       "      <th>mean</th>\n",
       "      <td>0.003123</td>\n",
       "      <td>50.080476</td>\n",
       "      <td>3.000540</td>\n",
       "    </tr>\n",
       "    <tr>\n",
       "      <th>std</th>\n",
       "      <td>1.002333</td>\n",
       "      <td>28.892834</td>\n",
       "      <td>1.500474</td>\n",
       "    </tr>\n",
       "    <tr>\n",
       "      <th>min</th>\n",
       "      <td>-4.658381</td>\n",
       "      <td>0.000029</td>\n",
       "      <td>-4.109713</td>\n",
       "    </tr>\n",
       "    <tr>\n",
       "      <th>25%</th>\n",
       "      <td>-0.679445</td>\n",
       "      <td>25.088709</td>\n",
       "      <td>1.984608</td>\n",
       "    </tr>\n",
       "    <tr>\n",
       "      <th>50%</th>\n",
       "      <td>0.003234</td>\n",
       "      <td>50.032419</td>\n",
       "      <td>2.999339</td>\n",
       "    </tr>\n",
       "    <tr>\n",
       "      <th>75%</th>\n",
       "      <td>0.677976</td>\n",
       "      <td>75.324598</td>\n",
       "      <td>4.012324</td>\n",
       "    </tr>\n",
       "    <tr>\n",
       "      <th>max</th>\n",
       "      <td>4.144688</td>\n",
       "      <td>99.999959</td>\n",
       "      <td>9.952690</td>\n",
       "    </tr>\n",
       "  </tbody>\n",
       "</table>\n",
       "</div>"
      ],
      "text/plain": [
       "              Normal       Uniforme  Normal Personalizada\n",
       "count  100000.000000  100000.000000         100000.000000\n",
       "mean        0.003123      50.080476              3.000540\n",
       "std         1.002333      28.892834              1.500474\n",
       "min        -4.658381       0.000029             -4.109713\n",
       "25%        -0.679445      25.088709              1.984608\n",
       "50%         0.003234      50.032419              2.999339\n",
       "75%         0.677976      75.324598              4.012324\n",
       "max         4.144688      99.999959              9.952690"
      ]
     },
     "execution_count": 22,
     "metadata": {},
     "output_type": "execute_result"
    }
   ],
   "source": [
    "data.describe()"
   ]
  },
  {
   "cell_type": "code",
   "execution_count": 23,
   "metadata": {},
   "outputs": [
    {
     "data": {
      "text/plain": [
       "(array([8.0000e+00, 1.6700e+02, 1.9140e+03, 1.0766e+04, 2.7095e+04,\n",
       "        3.3274e+04, 2.0005e+04, 5.8890e+03, 8.4000e+02, 4.2000e+01]),\n",
       " array([-4.65838133, -3.77807438, -2.89776743, -2.01746048, -1.13715353,\n",
       "        -0.25684658,  0.62346037,  1.50376732,  2.38407427,  3.26438122,\n",
       "         4.14468817]),\n",
       " <a list of 10 Patch objects>)"
      ]
     },
     "execution_count": 23,
     "metadata": {},
     "output_type": "execute_result"
    },
    {
     "data": {
      "image/png": "[encoded data removed]",
      "text/plain": [
       "<Figure size 432x288 with 1 Axes>"
      ]
     },
     "metadata": {
      "needs_background": "light"
     },
     "output_type": "display_data"
    }
   ],
   "source": [
    "plt.hist(data['Normal'])"
   ]
  },
  {
   "cell_type": "code",
   "execution_count": 25,
   "metadata": {},
   "outputs": [
    {
     "data": {
      "text/plain": [
       "(array([10003.,  9885., 10009., 10072.,  9999.,  9956.,  9877.,  9942.,\n",
       "        10191., 10066.]),\n",
       " array([2.92805707e-05, 1.00000223e+01, 2.00000153e+01, 3.00000083e+01,\n",
       "        4.00000013e+01, 4.99999943e+01, 5.99999873e+01, 6.99999803e+01,\n",
       "        7.99999733e+01, 8.99999663e+01, 9.99999593e+01]),\n",
       " <a list of 10 Patch objects>)"
      ]
     },
     "execution_count": 25,
     "metadata": {},
     "output_type": "execute_result"
    },
    {
     "data": {
      "image/png": "[encoded data removed]",
      "text/plain": [
       "<Figure size 432x288 with 1 Axes>"
      ]
     },
     "metadata": {
      "needs_background": "light"
     },
     "output_type": "display_data"
    }
   ],
   "source": [
    "plt.hist(data['Uniforme'])"
   ]
  },
  {
   "cell_type": "code",
   "execution_count": 26,
   "metadata": {},
   "outputs": [
    {
     "data": {
      "text/plain": [
       "(array([1.4000e+01, 1.7800e+02, 2.5240e+03, 1.3327e+04, 3.1940e+04,\n",
       "        3.3070e+04, 1.5499e+04, 3.1380e+03, 3.0200e+02, 8.0000e+00]),\n",
       " array([-4.10971328, -2.70347296, -1.29723263,  0.1090077 ,  1.51524803,\n",
       "         2.92148835,  4.32772868,  5.73396901,  7.14020933,  8.54644966,\n",
       "         9.95268999]),\n",
       " <a list of 10 Patch objects>)"
      ]
     },
     "execution_count": 26,
     "metadata": {},
     "output_type": "execute_result"
    },
    {
     "data": {
      "image/png": "[encoded data removed]",
      "text/plain": [
       "<Figure size 432x288 with 1 Axes>"
      ]
     },
     "metadata": {
      "needs_background": "light"
     },
     "output_type": "display_data"
    }
   ],
   "source": [
    "plt.hist(data['Normal Personalizada'])"
   ]
  },
  {
   "cell_type": "markdown",
   "metadata": {},
   "source": [
    "\n",
    "### Dataset personalizado - personas"
   ]
  },
  {
   "cell_type": "code",
   "execution_count": 28,
   "metadata": {
    "collapsed": true
   },
   "outputs": [
    {
     "name": "stdout",
     "output_type": "stream",
     "text": [
      "1000\n",
      "1000\n",
      "1000\n",
      "1000\n",
      "1000\n"
     ]
    }
   ],
   "source": [
    "n_rows = 1000\n",
    "\n",
    "gender = [\"Male\", \"Female\"]\n",
    "gender_data = np.random.choice(gender, p=[0.3, 0.7], size=n_rows)\n",
    "print(len(gender_data))\n",
    "\n",
    "economic_status = [\"Poor\", \"Middle\", \"Rich\"]\n",
    "economic_status_data = np.random.choice(economic_status, p=[0.01, 0.3, 0.69], size=n_rows)\n",
    "print(len(economic_status_data))\n",
    "\n",
    "continent = [\"America\", \"Europe\", \"Asia\", \"Antartic\"]\n",
    "continent_data = np.random.choice(continent, p=[0.2, 0.2, 0.5, 0.1], size=n_rows)\n",
    "print(len(continent_data))\n",
    "\n",
    "age_data = np.random.uniform(1,100,n_rows)\n",
    "print(len(age_data))\n",
    "\n",
    "anual_income_data = 70000 + 40000 * np.random.randn(n_rows)\n",
    "print(len(anual_income_data))"
   ]
  },
  {
   "cell_type": "code",
   "execution_count": 29,
   "metadata": {
    "collapsed": true
   },
   "outputs": [
    {
     "data": {
      "text/plain": [
       "(array([103.,  93., 104.,  95., 110.,  90.,  98., 100., 110.,  97.]),\n",
       " array([ 1.09646505, 10.98333911, 20.87021317, 30.75708723, 40.64396129,\n",
       "        50.53083536, 60.41770942, 70.30458348, 80.19145754, 90.0783316 ,\n",
       "        99.96520567]),\n",
       " <a list of 10 Patch objects>)"
      ]
     },
     "execution_count": 29,
     "metadata": {},
     "output_type": "execute_result"
    },
    {
     "data": {
      "image/png": "[encoded data removed]",
      "text/plain": [
       "<Figure size 432x288 with 1 Axes>"
      ]
     },
     "metadata": {
      "needs_background": "light"
     },
     "output_type": "display_data"
    }
   ],
   "source": [
    "plt.hist(age_data)"
   ]
  },
  {
   "cell_type": "code",
   "execution_count": 30,
   "metadata": {
    "collapsed": true
   },
   "outputs": [
    {
     "data": {
      "text/plain": [
       "(array([  7.,  19.,  59., 137., 219., 243., 180.,  94.,  33.,   9.]),\n",
       " array([-56841.05234912, -32557.42352176,  -8273.7946944 ,  16009.83413296,\n",
       "         40293.46296032,  64577.09178768,  88860.72061504, 113144.3494424 ,\n",
       "        137427.97826976, 161711.60709712, 185995.23592447]),\n",
       " <a list of 10 Patch objects>)"
      ]
     },
     "execution_count": 30,
     "metadata": {},
     "output_type": "execute_result"
    },
    {
     "data": {
      "image/png": "[encoded data removed]",
      "text/plain": [
       "<Figure size 432x288 with 1 Axes>"
      ]
     },
     "metadata": {
      "needs_background": "light"
     },
     "output_type": "display_data"
    }
   ],
   "source": [
    "plt.hist(anual_income_data)"
   ]
  },
  {
   "cell_type": "code",
   "execution_count": 31,
   "metadata": {
    "collapsed": true
   },
   "outputs": [
    {
     "data": {
      "text/plain": [
       "(array([683.,   0.,   0.,   0.,   0.,   0.,   0.,   0.,   0., 317.]),\n",
       " array([0. , 0.1, 0.2, 0.3, 0.4, 0.5, 0.6, 0.7, 0.8, 0.9, 1. ]),\n",
       " <a list of 10 Patch objects>)"
      ]
     },
     "execution_count": 31,
     "metadata": {},
     "output_type": "execute_result"
    },
    {
     "data": {
      "image/png": "[encoded data removed]",
      "text/plain": [
       "<Figure size 432x288 with 1 Axes>"
      ]
     },
     "metadata": {
      "needs_background": "light"
     },
     "output_type": "display_data"
    }
   ],
   "source": [
    "plt.hist(gender_data)"
   ]
  },
  {
   "cell_type": "code",
   "execution_count": 32,
   "metadata": {
    "collapsed": true
   },
   "outputs": [
    {
     "data": {
      "text/plain": [
       "(array([698.,   0.,   0.,   0.,   0., 295.,   0.,   0.,   0.,   7.]),\n",
       " array([0. , 0.2, 0.4, 0.6, 0.8, 1. , 1.2, 1.4, 1.6, 1.8, 2. ]),\n",
       " <a list of 10 Patch objects>)"
      ]
     },
     "execution_count": 32,
     "metadata": {},
     "output_type": "execute_result"
    },
    {
     "data": {
      "image/png": "[encoded data removed]",
      "text/plain": [
       "<Figure size 432x288 with 1 Axes>"
      ]
     },
     "metadata": {
      "needs_background": "light"
     },
     "output_type": "display_data"
    }
   ],
   "source": [
    "plt.hist(economic_status_data)"
   ]
  },
  {
   "cell_type": "code",
   "execution_count": 33,
   "metadata": {
    "collapsed": true
   },
   "outputs": [
    {
     "data": {
      "text/plain": [
       "(array([201.,   0.,   0., 488.,   0.,   0., 203.,   0.,   0., 108.]),\n",
       " array([0. , 0.3, 0.6, 0.9, 1.2, 1.5, 1.8, 2.1, 2.4, 2.7, 3. ]),\n",
       " <a list of 10 Patch objects>)"
      ]
     },
     "execution_count": 33,
     "metadata": {},
     "output_type": "execute_result"
    },
    {
     "data": {
      "image/png": "[encoded data removed]",
      "text/plain": [
       "<Figure size 432x288 with 1 Axes>"
      ]
     },
     "metadata": {
      "needs_background": "light"
     },
     "output_type": "display_data"
    }
   ],
   "source": [
    "plt.hist(continent_data)"
   ]
  },
  {
   "cell_type": "code",
   "execution_count": 34,
   "metadata": {},
   "outputs": [],
   "source": [
    "data = pd.DataFrame(\n",
    "    {\n",
    "        'Gender': gender_data,\n",
    "        'Status': economic_status_data,\n",
    "        'Continent': continent_data,\n",
    "        'Age': age_data,\n",
    "        'Income': anual_income_data,\n",
    "    }\n",
    ")"
   ]
  },
  {
   "cell_type": "code",
   "execution_count": 36,
   "metadata": {},
   "outputs": [
    {
     "data": {
      "text/html": [
       "<div>\n",
       "<style scoped>\n",
       "    .dataframe tbody tr th:only-of-type {\n",
       "        vertical-align: middle;\n",
       "    }\n",
       "\n",
       "    .dataframe tbody tr th {\n",
       "        vertical-align: top;\n",
       "    }\n",
       "\n",
       "    .dataframe thead th {\n",
       "        text-align: right;\n",
       "    }\n",
       "</style>\n",
       "<table border=\"1\" class=\"dataframe\">\n",
       "  <thead>\n",
       "    <tr style=\"text-align: right;\">\n",
       "      <th></th>\n",
       "      <th>Gender</th>\n",
       "      <th>Status</th>\n",
       "      <th>Continent</th>\n",
       "      <th>Age</th>\n",
       "      <th>Income</th>\n",
       "    </tr>\n",
       "  </thead>\n",
       "  <tbody>\n",
       "    <tr>\n",
       "      <th>0</th>\n",
       "      <td>Female</td>\n",
       "      <td>Rich</td>\n",
       "      <td>Europe</td>\n",
       "      <td>16.979237</td>\n",
       "      <td>74439.747024</td>\n",
       "    </tr>\n",
       "    <tr>\n",
       "      <th>1</th>\n",
       "      <td>Female</td>\n",
       "      <td>Rich</td>\n",
       "      <td>Asia</td>\n",
       "      <td>64.493469</td>\n",
       "      <td>91253.057160</td>\n",
       "    </tr>\n",
       "    <tr>\n",
       "      <th>2</th>\n",
       "      <td>Female</td>\n",
       "      <td>Rich</td>\n",
       "      <td>Asia</td>\n",
       "      <td>67.289044</td>\n",
       "      <td>144559.288010</td>\n",
       "    </tr>\n",
       "    <tr>\n",
       "      <th>3</th>\n",
       "      <td>Female</td>\n",
       "      <td>Rich</td>\n",
       "      <td>America</td>\n",
       "      <td>58.981718</td>\n",
       "      <td>74330.705914</td>\n",
       "    </tr>\n",
       "    <tr>\n",
       "      <th>4</th>\n",
       "      <td>Female</td>\n",
       "      <td>Rich</td>\n",
       "      <td>America</td>\n",
       "      <td>46.838491</td>\n",
       "      <td>77459.623913</td>\n",
       "    </tr>\n",
       "    <tr>\n",
       "      <th>5</th>\n",
       "      <td>Male</td>\n",
       "      <td>Rich</td>\n",
       "      <td>Europe</td>\n",
       "      <td>99.731950</td>\n",
       "      <td>98289.737609</td>\n",
       "    </tr>\n",
       "    <tr>\n",
       "      <th>6</th>\n",
       "      <td>Female</td>\n",
       "      <td>Rich</td>\n",
       "      <td>Asia</td>\n",
       "      <td>48.713311</td>\n",
       "      <td>66930.958194</td>\n",
       "    </tr>\n",
       "    <tr>\n",
       "      <th>7</th>\n",
       "      <td>Male</td>\n",
       "      <td>Rich</td>\n",
       "      <td>America</td>\n",
       "      <td>90.814208</td>\n",
       "      <td>160081.632988</td>\n",
       "    </tr>\n",
       "    <tr>\n",
       "      <th>8</th>\n",
       "      <td>Female</td>\n",
       "      <td>Rich</td>\n",
       "      <td>Antartic</td>\n",
       "      <td>30.359980</td>\n",
       "      <td>72567.780597</td>\n",
       "    </tr>\n",
       "    <tr>\n",
       "      <th>9</th>\n",
       "      <td>Male</td>\n",
       "      <td>Middle</td>\n",
       "      <td>Asia</td>\n",
       "      <td>68.980544</td>\n",
       "      <td>100360.278622</td>\n",
       "    </tr>\n",
       "    <tr>\n",
       "      <th>10</th>\n",
       "      <td>Female</td>\n",
       "      <td>Middle</td>\n",
       "      <td>Europe</td>\n",
       "      <td>58.870249</td>\n",
       "      <td>76978.682863</td>\n",
       "    </tr>\n",
       "    <tr>\n",
       "      <th>11</th>\n",
       "      <td>Female</td>\n",
       "      <td>Rich</td>\n",
       "      <td>Europe</td>\n",
       "      <td>53.408805</td>\n",
       "      <td>41971.691366</td>\n",
       "    </tr>\n",
       "    <tr>\n",
       "      <th>12</th>\n",
       "      <td>Male</td>\n",
       "      <td>Rich</td>\n",
       "      <td>Asia</td>\n",
       "      <td>69.176882</td>\n",
       "      <td>115427.494873</td>\n",
       "    </tr>\n",
       "    <tr>\n",
       "      <th>13</th>\n",
       "      <td>Female</td>\n",
       "      <td>Rich</td>\n",
       "      <td>Asia</td>\n",
       "      <td>59.746053</td>\n",
       "      <td>96750.741675</td>\n",
       "    </tr>\n",
       "    <tr>\n",
       "      <th>14</th>\n",
       "      <td>Male</td>\n",
       "      <td>Rich</td>\n",
       "      <td>Asia</td>\n",
       "      <td>97.254171</td>\n",
       "      <td>-50786.596921</td>\n",
       "    </tr>\n",
       "    <tr>\n",
       "      <th>15</th>\n",
       "      <td>Female</td>\n",
       "      <td>Rich</td>\n",
       "      <td>Asia</td>\n",
       "      <td>22.177771</td>\n",
       "      <td>35108.883841</td>\n",
       "    </tr>\n",
       "    <tr>\n",
       "      <th>16</th>\n",
       "      <td>Female</td>\n",
       "      <td>Rich</td>\n",
       "      <td>Europe</td>\n",
       "      <td>92.305465</td>\n",
       "      <td>91703.011882</td>\n",
       "    </tr>\n",
       "    <tr>\n",
       "      <th>17</th>\n",
       "      <td>Female</td>\n",
       "      <td>Rich</td>\n",
       "      <td>Asia</td>\n",
       "      <td>97.186022</td>\n",
       "      <td>40919.672194</td>\n",
       "    </tr>\n",
       "    <tr>\n",
       "      <th>18</th>\n",
       "      <td>Female</td>\n",
       "      <td>Rich</td>\n",
       "      <td>Antartic</td>\n",
       "      <td>29.656776</td>\n",
       "      <td>25337.780388</td>\n",
       "    </tr>\n",
       "    <tr>\n",
       "      <th>19</th>\n",
       "      <td>Female</td>\n",
       "      <td>Rich</td>\n",
       "      <td>Europe</td>\n",
       "      <td>65.659511</td>\n",
       "      <td>112322.707484</td>\n",
       "    </tr>\n",
       "  </tbody>\n",
       "</table>\n",
       "</div>"
      ],
      "text/plain": [
       "    Gender  Status Continent        Age         Income\n",
       "0   Female    Rich    Europe  16.979237   74439.747024\n",
       "1   Female    Rich      Asia  64.493469   91253.057160\n",
       "2   Female    Rich      Asia  67.289044  144559.288010\n",
       "3   Female    Rich   America  58.981718   74330.705914\n",
       "4   Female    Rich   America  46.838491   77459.623913\n",
       "5     Male    Rich    Europe  99.731950   98289.737609\n",
       "6   Female    Rich      Asia  48.713311   66930.958194\n",
       "7     Male    Rich   America  90.814208  160081.632988\n",
       "8   Female    Rich  Antartic  30.359980   72567.780597\n",
       "9     Male  Middle      Asia  68.980544  100360.278622\n",
       "10  Female  Middle    Europe  58.870249   76978.682863\n",
       "11  Female    Rich    Europe  53.408805   41971.691366\n",
       "12    Male    Rich      Asia  69.176882  115427.494873\n",
       "13  Female    Rich      Asia  59.746053   96750.741675\n",
       "14    Male    Rich      Asia  97.254171  -50786.596921\n",
       "15  Female    Rich      Asia  22.177771   35108.883841\n",
       "16  Female    Rich    Europe  92.305465   91703.011882\n",
       "17  Female    Rich      Asia  97.186022   40919.672194\n",
       "18  Female    Rich  Antartic  29.656776   25337.780388\n",
       "19  Female    Rich    Europe  65.659511  112322.707484"
      ]
     },
     "execution_count": 36,
     "metadata": {},
     "output_type": "execute_result"
    }
   ],
   "source": [
    "data.head(20)"
   ]
  },
  {
   "cell_type": "markdown",
   "metadata": {},
   "source": [
    "## Bonus - Simulación de Monte Carlo"
   ]
  },
  {
   "cell_type": "code",
   "execution_count": 38,
   "metadata": {},
   "outputs": [
    {
     "name": "stdout",
     "output_type": "stream",
     "text": [
      "Pi vale 3.1416520000000006\n"
     ]
    }
   ],
   "source": [
    "experiments = 10000\n",
    "throws = 1000\n",
    "pi_aprox_list = []\n",
    "\n",
    "for i in range(experiments): \n",
    "    count = 0\n",
    "    for j in range(throws):\n",
    "        x = np.random.uniform(0,1)\n",
    "        y = np.random.uniform(0,1)\n",
    "        z = np.sqrt(x**2 + y**2)\n",
    "        if z <= 1: \n",
    "            count += 1\n",
    "    pi_aprox = count / throws * 4\n",
    "    pi_aprox_list.append(pi_aprox)\n",
    "\n",
    "pi = np.mean(pi_aprox_list)\n",
    "print(f'Pi vale {pi}')"
   ]
  },
  {
   "cell_type": "code",
   "execution_count": null,
   "metadata": {},
   "outputs": [],
   "source": []
  }
 ],
 "metadata": {
  "kernelspec": {
   "display_name": "Python 3",
   "language": "python",
   "name": "python3"
  },
  "language_info": {
   "codemirror_mode": {
    "name": "ipython",
    "version": 3
   },
   "file_extension": ".py",
   "mimetype": "text/x-python",
   "name": "python",
   "nbconvert_exporter": "python",
   "pygments_lexer": "ipython3",
   "version": "3.7.4"
  }
 },
 "nbformat": 4,
 "nbformat_minor": 2
}
