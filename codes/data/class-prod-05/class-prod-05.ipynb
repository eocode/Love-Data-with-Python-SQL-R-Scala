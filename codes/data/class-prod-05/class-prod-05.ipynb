{
 "cells": [
  {
   "cell_type": "markdown",
   "metadata": {},
   "source": [
    "# Más técnicas de Data Munging"
   ]
  },
  {
   "cell_type": "code",
   "execution_count": 1,
   "metadata": {},
   "outputs": [],
   "source": [
    "import pandas as pd\n",
    "import numpy as np\n",
    "import matplotlib.pyplot as plt"
   ]
  },
  {
   "cell_type": "markdown",
   "metadata": {},
   "source": [
    "## Repasando las distribuciones"
   ]
  },
  {
   "cell_type": "markdown",
   "metadata": {},
   "source": [
    "### Distribución uniforme"
   ]
  },
  {
   "cell_type": "code",
   "execution_count": 4,
   "metadata": {
    "collapsed": true
   },
   "outputs": [
    {
     "data": {
      "text/plain": [
       "(array([103.,  92.,  91.,  85., 107., 111.,  98.,  95., 106., 112.]),\n",
       " array([ 1.0063477 , 10.90449714, 20.80264658, 30.70079602, 40.59894546,\n",
       "        50.4970949 , 60.39524434, 70.29339379, 80.19154323, 90.08969267,\n",
       "        99.98784211]),\n",
       " <a list of 10 Patch objects>)"
      ]
     },
     "execution_count": 4,
     "metadata": {},
     "output_type": "execute_result"
    },
    {
     "data": {
      "image/png": "[encoded data removed]",
      "text/plain": [
       "<Figure size 432x288 with 1 Axes>"
      ]
     },
     "metadata": {
      "needs_background": "light"
     },
     "output_type": "display_data"
    }
   ],
   "source": [
    "low_lim = 1 # Límite inferior\n",
    "up_lim = 100 # Límite superior\n",
    "samples = 1000 # Cantidad de muestras\n",
    "uniform_data = np.random.uniform(low_lim, up_lim, samples)\n",
    "plt.hist(uniform_data)"
   ]
  },
  {
   "cell_type": "markdown",
   "metadata": {},
   "source": [
    "### Distribución normal"
   ]
  },
  {
   "cell_type": "code",
   "execution_count": 8,
   "metadata": {
    "collapsed": true
   },
   "outputs": [
    {
     "data": {
      "text/plain": [
       "(array([ 11.,  40., 109., 183., 245., 199., 128.,  58.,  22.,   5.]),\n",
       " array([-2.86491674, -2.25198129, -1.63904584, -1.02611039, -0.41317494,\n",
       "         0.1997605 ,  0.81269595,  1.4256314 ,  2.03856685,  2.6515023 ,\n",
       "         3.26443775]),\n",
       " <a list of 10 Patch objects>)"
      ]
     },
     "execution_count": 8,
     "metadata": {},
     "output_type": "execute_result"
    },
    {
     "data": {
      "image/png": "[encoded data removed]",
      "text/plain": [
       "<Figure size 432x288 with 1 Axes>"
      ]
     },
     "metadata": {
      "needs_background": "light"
     },
     "output_type": "display_data"
    }
   ],
   "source": [
    "samples = 1000 # Cantidad de muestras\n",
    "normal_data = np.random.randn(samples)\n",
    "plt.hist(normal_data)"
   ]
  },
  {
   "cell_type": "markdown",
   "metadata": {},
   "source": [
    "#### Distribución normal personalizada"
   ]
  },
  {
   "cell_type": "code",
   "execution_count": 10,
   "metadata": {
    "collapsed": true
   },
   "outputs": [
    {
     "data": {
      "text/plain": [
       "(array([  4.,  19.,  52., 137., 192., 249., 210.,  91.,  35.,  11.]),\n",
       " array([-3.21855582, -1.69570896, -0.17286209,  1.34998477,  2.87283164,\n",
       "         4.3956785 ,  5.91852537,  7.44137224,  8.9642191 , 10.48706597,\n",
       "        12.00991283]),\n",
       " <a list of 10 Patch objects>)"
      ]
     },
     "execution_count": 10,
     "metadata": {},
     "output_type": "execute_result"
    },
    {
     "data": {
      "image/png": "[encoded data removed]",
      "text/plain": [
       "<Figure size 432x288 with 1 Axes>"
      ]
     },
     "metadata": {
      "needs_background": "light"
     },
     "output_type": "display_data"
    }
   ],
   "source": [
    "mean = 5 # Media\n",
    "std = 2.5 # Desviación estándar\n",
    "samples = 1000 # Cantidad de muestras\n",
    "normal_data = mean + std * np.random.randn(samples)\n",
    "plt.hist(normal_data)"
   ]
  },
  {
   "cell_type": "markdown",
   "metadata": {},
   "source": [
    "## Aplicando distribuciones a la creación de datasets"
   ]
  },
  {
   "cell_type": "code",
   "execution_count": 11,
   "metadata": {},
   "outputs": [],
   "source": [
    "n_rows = 100\n",
    "data = pd.DataFrame(\n",
    "    {\n",
    "        'Normal': np.random.randn(n_rows),\n",
    "        'Uniforme': np.random.uniform(0, 100, n_rows),\n",
    "        'Normal personalizada': 5 + 2.5 * np.random.randn(n_rows)\n",
    "    }\n",
    ")"
   ]
  },
  {
   "cell_type": "code",
   "execution_count": 12,
   "metadata": {
    "collapsed": true
   },
   "outputs": [
    {
     "data": {
      "text/html": [
       "<div>\n",
       "<style scoped>\n",
       "    .dataframe tbody tr th:only-of-type {\n",
       "        vertical-align: middle;\n",
       "    }\n",
       "\n",
       "    .dataframe tbody tr th {\n",
       "        vertical-align: top;\n",
       "    }\n",
       "\n",
       "    .dataframe thead th {\n",
       "        text-align: right;\n",
       "    }\n",
       "</style>\n",
       "<table border=\"1\" class=\"dataframe\">\n",
       "  <thead>\n",
       "    <tr style=\"text-align: right;\">\n",
       "      <th></th>\n",
       "      <th>Normal</th>\n",
       "      <th>Uniforme</th>\n",
       "      <th>Normal personalizada</th>\n",
       "    </tr>\n",
       "  </thead>\n",
       "  <tbody>\n",
       "    <tr>\n",
       "      <th>0</th>\n",
       "      <td>0.115515</td>\n",
       "      <td>51.129163</td>\n",
       "      <td>6.252303</td>\n",
       "    </tr>\n",
       "    <tr>\n",
       "      <th>1</th>\n",
       "      <td>-0.813207</td>\n",
       "      <td>64.504017</td>\n",
       "      <td>6.314783</td>\n",
       "    </tr>\n",
       "    <tr>\n",
       "      <th>2</th>\n",
       "      <td>0.096747</td>\n",
       "      <td>63.228811</td>\n",
       "      <td>7.157897</td>\n",
       "    </tr>\n",
       "    <tr>\n",
       "      <th>3</th>\n",
       "      <td>0.774802</td>\n",
       "      <td>82.207729</td>\n",
       "      <td>5.902003</td>\n",
       "    </tr>\n",
       "    <tr>\n",
       "      <th>4</th>\n",
       "      <td>1.573668</td>\n",
       "      <td>0.272472</td>\n",
       "      <td>9.209926</td>\n",
       "    </tr>\n",
       "  </tbody>\n",
       "</table>\n",
       "</div>"
      ],
      "text/plain": [
       "     Normal   Uniforme  Normal personalizada\n",
       "0  0.115515  51.129163              6.252303\n",
       "1 -0.813207  64.504017              6.314783\n",
       "2  0.096747  63.228811              7.157897\n",
       "3  0.774802  82.207729              5.902003\n",
       "4  1.573668   0.272472              9.209926"
      ]
     },
     "execution_count": 12,
     "metadata": {},
     "output_type": "execute_result"
    }
   ],
   "source": [
    "data.head()"
   ]
  },
  {
   "cell_type": "code",
   "execution_count": 13,
   "metadata": {
    "collapsed": true
   },
   "outputs": [
    {
     "data": {
      "text/plain": [
       "(array([ 1.,  1.,  3.,  6., 22., 21., 15., 16., 12.,  3.]),\n",
       " array([-3.09720216, -2.54921058, -2.00121901, -1.45322743, -0.90523585,\n",
       "        -0.35724427,  0.19074731,  0.73873888,  1.28673046,  1.83472204,\n",
       "         2.38271362]),\n",
       " <a list of 10 Patch objects>)"
      ]
     },
     "execution_count": 13,
     "metadata": {},
     "output_type": "execute_result"
    },
    {
     "data": {
      "image/png": "[encoded data removed]",
      "text/plain": [
       "<Figure size 432x288 with 1 Axes>"
      ]
     },
     "metadata": {
      "needs_background": "light"
     },
     "output_type": "display_data"
    }
   ],
   "source": [
    "plt.hist(data['Normal'])"
   ]
  },
  {
   "cell_type": "code",
   "execution_count": 15,
   "metadata": {
    "collapsed": true
   },
   "outputs": [
    {
     "data": {
      "text/plain": [
       "(array([14.,  8., 10., 15., 11.,  6., 11., 11.,  6.,  8.]),\n",
       " array([ 0.27247209, 10.16176247, 20.05105285, 29.94034323, 39.82963361,\n",
       "        49.71892399, 59.60821437, 69.49750475, 79.38679513, 89.27608551,\n",
       "        99.16537589]),\n",
       " <a list of 10 Patch objects>)"
      ]
     },
     "execution_count": 15,
     "metadata": {},
     "output_type": "execute_result"
    },
    {
     "data": {
      "image/png": "[encoded data removed]",
      "text/plain": [
       "<Figure size 432x288 with 1 Axes>"
      ]
     },
     "metadata": {
      "needs_background": "light"
     },
     "output_type": "display_data"
    }
   ],
   "source": [
    "plt.hist(data['Uniforme'])"
   ]
  },
  {
   "cell_type": "code",
   "execution_count": 16,
   "metadata": {
    "collapsed": true
   },
   "outputs": [
    {
     "data": {
      "text/plain": [
       "(array([ 3.,  7.,  3., 15., 19., 14., 12., 13.,  7.,  7.]),\n",
       " array([-1.64834325, -0.46203472,  0.72427382,  1.91058235,  3.09689089,\n",
       "         4.28319943,  5.46950796,  6.6558165 ,  7.84212504,  9.02843357,\n",
       "        10.21474211]),\n",
       " <a list of 10 Patch objects>)"
      ]
     },
     "execution_count": 16,
     "metadata": {},
     "output_type": "execute_result"
    },
    {
     "data": {
      "image/png": "[encoded data removed]",
      "text/plain": [
       "<Figure size 432x288 with 1 Axes>"
      ]
     },
     "metadata": {
      "needs_background": "light"
     },
     "output_type": "display_data"
    }
   ],
   "source": [
    "plt.hist(data['Normal personalizada'])"
   ]
  },
  {
   "cell_type": "markdown",
   "metadata": {},
   "source": [
    "### Dataset personalizado - computadoras aleatorias"
   ]
  },
  {
   "cell_type": "code",
   "execution_count": 17,
   "metadata": {},
   "outputs": [],
   "source": [
    "brand = [\"Gigabyte\", \"MSI\", \"Lenovo\", \"Dell\", \"Acer\"] # Agregar más\n",
    "graphic_card = [\"Gtx 1660 Ti\", \"Rtx 2080 Ti\", \"Integrated\"] # Agregar más\n",
    "memory = [\"4gb\", \"8gb\", \"16gb\"] # Agregar más\n",
    "monitor_type = [\"TN\", \"VA\", \"IPS\"] # Agregar más\n",
    "monitor_res = [\"HD\", \"FHD\", \"4K\"] # Agregar más\n",
    "# More"
   ]
  },
  {
   "cell_type": "code",
   "execution_count": 19,
   "metadata": {
    "scrolled": false
   },
   "outputs": [],
   "source": [
    "n_rows = 100\n",
    "brand_data = np.random.choice(brand, size=n_rows)\n",
    "graphic_card_data = np.random.choice(graphic_card, size=n_rows)\n",
    "memory_data = np.random.choice(memory, size=n_rows)\n",
    "monitor_type_data = np.random.choice(monitor_type, size=n_rows)\n",
    "monitor_res_data = np.random.choice(monitor_res, size=n_rows)"
   ]
  },
  {
   "cell_type": "code",
   "execution_count": 20,
   "metadata": {},
   "outputs": [],
   "source": [
    "data = pd.DataFrame(\n",
    "    {\n",
    "        'Brand': brand_data,\n",
    "        'Graphic Card': graphic_card_data,\n",
    "        'Memory': memory_data,\n",
    "        'Monitor Type': monitor_type_data,\n",
    "        'Monitor Resolution': monitor_res_data,\n",
    "    }\n",
    ")"
   ]
  },
  {
   "cell_type": "code",
   "execution_count": 21,
   "metadata": {
    "collapsed": true
   },
   "outputs": [
    {
     "data": {
      "text/html": [
       "<div>\n",
       "<style scoped>\n",
       "    .dataframe tbody tr th:only-of-type {\n",
       "        vertical-align: middle;\n",
       "    }\n",
       "\n",
       "    .dataframe tbody tr th {\n",
       "        vertical-align: top;\n",
       "    }\n",
       "\n",
       "    .dataframe thead th {\n",
       "        text-align: right;\n",
       "    }\n",
       "</style>\n",
       "<table border=\"1\" class=\"dataframe\">\n",
       "  <thead>\n",
       "    <tr style=\"text-align: right;\">\n",
       "      <th></th>\n",
       "      <th>Brand</th>\n",
       "      <th>Graphic Card</th>\n",
       "      <th>Memory</th>\n",
       "      <th>Monitor Type</th>\n",
       "      <th>Monitor Resolution</th>\n",
       "    </tr>\n",
       "  </thead>\n",
       "  <tbody>\n",
       "    <tr>\n",
       "      <th>0</th>\n",
       "      <td>Acer</td>\n",
       "      <td>Integrated</td>\n",
       "      <td>4gb</td>\n",
       "      <td>IPS</td>\n",
       "      <td>4K</td>\n",
       "    </tr>\n",
       "    <tr>\n",
       "      <th>1</th>\n",
       "      <td>MSI</td>\n",
       "      <td>Integrated</td>\n",
       "      <td>4gb</td>\n",
       "      <td>IPS</td>\n",
       "      <td>4K</td>\n",
       "    </tr>\n",
       "    <tr>\n",
       "      <th>2</th>\n",
       "      <td>Dell</td>\n",
       "      <td>Rtx 2080 Ti</td>\n",
       "      <td>16gb</td>\n",
       "      <td>TN</td>\n",
       "      <td>4K</td>\n",
       "    </tr>\n",
       "    <tr>\n",
       "      <th>3</th>\n",
       "      <td>Acer</td>\n",
       "      <td>Gtx 1660 Ti</td>\n",
       "      <td>16gb</td>\n",
       "      <td>IPS</td>\n",
       "      <td>4K</td>\n",
       "    </tr>\n",
       "    <tr>\n",
       "      <th>4</th>\n",
       "      <td>Lenovo</td>\n",
       "      <td>Rtx 2080 Ti</td>\n",
       "      <td>4gb</td>\n",
       "      <td>IPS</td>\n",
       "      <td>FHD</td>\n",
       "    </tr>\n",
       "  </tbody>\n",
       "</table>\n",
       "</div>"
      ],
      "text/plain": [
       "    Brand Graphic Card Memory Monitor Type Monitor Resolution\n",
       "0    Acer   Integrated    4gb          IPS                 4K\n",
       "1     MSI   Integrated    4gb          IPS                 4K\n",
       "2    Dell  Rtx 2080 Ti   16gb           TN                 4K\n",
       "3    Acer  Gtx 1660 Ti   16gb          IPS                 4K\n",
       "4  Lenovo  Rtx 2080 Ti    4gb          IPS                FHD"
      ]
     },
     "execution_count": 21,
     "metadata": {},
     "output_type": "execute_result"
    }
   ],
   "source": [
    "data.head()"
   ]
  },
  {
   "cell_type": "markdown",
   "metadata": {},
   "source": [
    "## Agrupado de datos por variables categóricas"
   ]
  },
  {
   "cell_type": "code",
   "execution_count": 23,
   "metadata": {},
   "outputs": [],
   "source": [
    "grouped_brand = data.groupby(\"Brand\")"
   ]
  },
  {
   "cell_type": "code",
   "execution_count": 24,
   "metadata": {
    "collapsed": true
   },
   "outputs": [
    {
     "data": {
      "text/plain": [
       "{'Acer': Int64Index([ 0,  3,  8, 11, 12, 14, 18, 24, 31, 32, 33, 42, 43, 55, 58, 60, 65,\n",
       "             76, 78, 88, 96, 97, 98],\n",
       "            dtype='int64'),\n",
       " 'Dell': Int64Index([ 2, 13, 19, 20, 25, 27, 37, 44, 46, 48, 50, 54, 57, 59, 61, 64, 66,\n",
       "             69, 71, 72, 73, 74, 80, 81, 83, 85, 87, 89, 93],\n",
       "            dtype='int64'),\n",
       " 'Gigabyte': Int64Index([17, 22, 23, 26, 29, 35, 38, 39, 40, 51, 62, 67, 86, 91], dtype='int64'),\n",
       " 'Lenovo': Int64Index([4, 5, 6, 9, 21, 30, 34, 36, 45, 52, 56, 63, 70, 77, 79, 84, 90,\n",
       "             99],\n",
       "            dtype='int64'),\n",
       " 'MSI': Int64Index([1, 7, 10, 15, 16, 28, 41, 47, 49, 53, 68, 75, 82, 92, 94, 95], dtype='int64')}"
      ]
     },
     "execution_count": 24,
     "metadata": {},
     "output_type": "execute_result"
    }
   ],
   "source": [
    "grouped_brand.groups"
   ]
  },
  {
   "cell_type": "code",
   "execution_count": 25,
   "metadata": {
    "collapsed": true
   },
   "outputs": [
    {
     "data": {
      "text/html": [
       "<div>\n",
       "<style scoped>\n",
       "    .dataframe tbody tr th:only-of-type {\n",
       "        vertical-align: middle;\n",
       "    }\n",
       "\n",
       "    .dataframe tbody tr th {\n",
       "        vertical-align: top;\n",
       "    }\n",
       "\n",
       "    .dataframe thead th {\n",
       "        text-align: right;\n",
       "    }\n",
       "</style>\n",
       "<table border=\"1\" class=\"dataframe\">\n",
       "  <thead>\n",
       "    <tr style=\"text-align: right;\">\n",
       "      <th></th>\n",
       "      <th>Brand</th>\n",
       "      <th>Graphic Card</th>\n",
       "      <th>Memory</th>\n",
       "      <th>Monitor Type</th>\n",
       "      <th>Monitor Resolution</th>\n",
       "    </tr>\n",
       "  </thead>\n",
       "  <tbody>\n",
       "    <tr>\n",
       "      <th>2</th>\n",
       "      <td>Dell</td>\n",
       "      <td>Rtx 2080 Ti</td>\n",
       "      <td>16gb</td>\n",
       "      <td>TN</td>\n",
       "      <td>4K</td>\n",
       "    </tr>\n",
       "    <tr>\n",
       "      <th>13</th>\n",
       "      <td>Dell</td>\n",
       "      <td>Integrated</td>\n",
       "      <td>8gb</td>\n",
       "      <td>VA</td>\n",
       "      <td>HD</td>\n",
       "    </tr>\n",
       "    <tr>\n",
       "      <th>19</th>\n",
       "      <td>Dell</td>\n",
       "      <td>Integrated</td>\n",
       "      <td>16gb</td>\n",
       "      <td>TN</td>\n",
       "      <td>FHD</td>\n",
       "    </tr>\n",
       "    <tr>\n",
       "      <th>20</th>\n",
       "      <td>Dell</td>\n",
       "      <td>Rtx 2080 Ti</td>\n",
       "      <td>8gb</td>\n",
       "      <td>IPS</td>\n",
       "      <td>FHD</td>\n",
       "    </tr>\n",
       "    <tr>\n",
       "      <th>25</th>\n",
       "      <td>Dell</td>\n",
       "      <td>Integrated</td>\n",
       "      <td>16gb</td>\n",
       "      <td>TN</td>\n",
       "      <td>FHD</td>\n",
       "    </tr>\n",
       "    <tr>\n",
       "      <th>27</th>\n",
       "      <td>Dell</td>\n",
       "      <td>Rtx 2080 Ti</td>\n",
       "      <td>16gb</td>\n",
       "      <td>VA</td>\n",
       "      <td>FHD</td>\n",
       "    </tr>\n",
       "    <tr>\n",
       "      <th>37</th>\n",
       "      <td>Dell</td>\n",
       "      <td>Gtx 1660 Ti</td>\n",
       "      <td>16gb</td>\n",
       "      <td>VA</td>\n",
       "      <td>HD</td>\n",
       "    </tr>\n",
       "    <tr>\n",
       "      <th>44</th>\n",
       "      <td>Dell</td>\n",
       "      <td>Gtx 1660 Ti</td>\n",
       "      <td>16gb</td>\n",
       "      <td>VA</td>\n",
       "      <td>FHD</td>\n",
       "    </tr>\n",
       "    <tr>\n",
       "      <th>46</th>\n",
       "      <td>Dell</td>\n",
       "      <td>Rtx 2080 Ti</td>\n",
       "      <td>8gb</td>\n",
       "      <td>IPS</td>\n",
       "      <td>4K</td>\n",
       "    </tr>\n",
       "    <tr>\n",
       "      <th>48</th>\n",
       "      <td>Dell</td>\n",
       "      <td>Rtx 2080 Ti</td>\n",
       "      <td>4gb</td>\n",
       "      <td>IPS</td>\n",
       "      <td>FHD</td>\n",
       "    </tr>\n",
       "    <tr>\n",
       "      <th>50</th>\n",
       "      <td>Dell</td>\n",
       "      <td>Integrated</td>\n",
       "      <td>4gb</td>\n",
       "      <td>TN</td>\n",
       "      <td>FHD</td>\n",
       "    </tr>\n",
       "    <tr>\n",
       "      <th>54</th>\n",
       "      <td>Dell</td>\n",
       "      <td>Rtx 2080 Ti</td>\n",
       "      <td>4gb</td>\n",
       "      <td>VA</td>\n",
       "      <td>FHD</td>\n",
       "    </tr>\n",
       "    <tr>\n",
       "      <th>57</th>\n",
       "      <td>Dell</td>\n",
       "      <td>Rtx 2080 Ti</td>\n",
       "      <td>8gb</td>\n",
       "      <td>TN</td>\n",
       "      <td>FHD</td>\n",
       "    </tr>\n",
       "    <tr>\n",
       "      <th>59</th>\n",
       "      <td>Dell</td>\n",
       "      <td>Gtx 1660 Ti</td>\n",
       "      <td>8gb</td>\n",
       "      <td>TN</td>\n",
       "      <td>HD</td>\n",
       "    </tr>\n",
       "    <tr>\n",
       "      <th>61</th>\n",
       "      <td>Dell</td>\n",
       "      <td>Rtx 2080 Ti</td>\n",
       "      <td>4gb</td>\n",
       "      <td>IPS</td>\n",
       "      <td>HD</td>\n",
       "    </tr>\n",
       "    <tr>\n",
       "      <th>64</th>\n",
       "      <td>Dell</td>\n",
       "      <td>Integrated</td>\n",
       "      <td>4gb</td>\n",
       "      <td>TN</td>\n",
       "      <td>FHD</td>\n",
       "    </tr>\n",
       "    <tr>\n",
       "      <th>66</th>\n",
       "      <td>Dell</td>\n",
       "      <td>Rtx 2080 Ti</td>\n",
       "      <td>4gb</td>\n",
       "      <td>IPS</td>\n",
       "      <td>4K</td>\n",
       "    </tr>\n",
       "    <tr>\n",
       "      <th>69</th>\n",
       "      <td>Dell</td>\n",
       "      <td>Rtx 2080 Ti</td>\n",
       "      <td>8gb</td>\n",
       "      <td>VA</td>\n",
       "      <td>FHD</td>\n",
       "    </tr>\n",
       "    <tr>\n",
       "      <th>71</th>\n",
       "      <td>Dell</td>\n",
       "      <td>Gtx 1660 Ti</td>\n",
       "      <td>4gb</td>\n",
       "      <td>VA</td>\n",
       "      <td>4K</td>\n",
       "    </tr>\n",
       "    <tr>\n",
       "      <th>72</th>\n",
       "      <td>Dell</td>\n",
       "      <td>Rtx 2080 Ti</td>\n",
       "      <td>4gb</td>\n",
       "      <td>TN</td>\n",
       "      <td>FHD</td>\n",
       "    </tr>\n",
       "    <tr>\n",
       "      <th>73</th>\n",
       "      <td>Dell</td>\n",
       "      <td>Gtx 1660 Ti</td>\n",
       "      <td>4gb</td>\n",
       "      <td>TN</td>\n",
       "      <td>4K</td>\n",
       "    </tr>\n",
       "    <tr>\n",
       "      <th>74</th>\n",
       "      <td>Dell</td>\n",
       "      <td>Integrated</td>\n",
       "      <td>4gb</td>\n",
       "      <td>VA</td>\n",
       "      <td>FHD</td>\n",
       "    </tr>\n",
       "    <tr>\n",
       "      <th>80</th>\n",
       "      <td>Dell</td>\n",
       "      <td>Gtx 1660 Ti</td>\n",
       "      <td>4gb</td>\n",
       "      <td>TN</td>\n",
       "      <td>HD</td>\n",
       "    </tr>\n",
       "    <tr>\n",
       "      <th>81</th>\n",
       "      <td>Dell</td>\n",
       "      <td>Integrated</td>\n",
       "      <td>4gb</td>\n",
       "      <td>VA</td>\n",
       "      <td>FHD</td>\n",
       "    </tr>\n",
       "    <tr>\n",
       "      <th>83</th>\n",
       "      <td>Dell</td>\n",
       "      <td>Integrated</td>\n",
       "      <td>4gb</td>\n",
       "      <td>IPS</td>\n",
       "      <td>HD</td>\n",
       "    </tr>\n",
       "    <tr>\n",
       "      <th>85</th>\n",
       "      <td>Dell</td>\n",
       "      <td>Rtx 2080 Ti</td>\n",
       "      <td>4gb</td>\n",
       "      <td>IPS</td>\n",
       "      <td>HD</td>\n",
       "    </tr>\n",
       "    <tr>\n",
       "      <th>87</th>\n",
       "      <td>Dell</td>\n",
       "      <td>Integrated</td>\n",
       "      <td>8gb</td>\n",
       "      <td>VA</td>\n",
       "      <td>4K</td>\n",
       "    </tr>\n",
       "    <tr>\n",
       "      <th>89</th>\n",
       "      <td>Dell</td>\n",
       "      <td>Gtx 1660 Ti</td>\n",
       "      <td>8gb</td>\n",
       "      <td>TN</td>\n",
       "      <td>FHD</td>\n",
       "    </tr>\n",
       "    <tr>\n",
       "      <th>93</th>\n",
       "      <td>Dell</td>\n",
       "      <td>Gtx 1660 Ti</td>\n",
       "      <td>4gb</td>\n",
       "      <td>VA</td>\n",
       "      <td>FHD</td>\n",
       "    </tr>\n",
       "  </tbody>\n",
       "</table>\n",
       "</div>"
      ],
      "text/plain": [
       "   Brand Graphic Card Memory Monitor Type Monitor Resolution\n",
       "2   Dell  Rtx 2080 Ti   16gb           TN                 4K\n",
       "13  Dell   Integrated    8gb           VA                 HD\n",
       "19  Dell   Integrated   16gb           TN                FHD\n",
       "20  Dell  Rtx 2080 Ti    8gb          IPS                FHD\n",
       "25  Dell   Integrated   16gb           TN                FHD\n",
       "27  Dell  Rtx 2080 Ti   16gb           VA                FHD\n",
       "37  Dell  Gtx 1660 Ti   16gb           VA                 HD\n",
       "44  Dell  Gtx 1660 Ti   16gb           VA                FHD\n",
       "46  Dell  Rtx 2080 Ti    8gb          IPS                 4K\n",
       "48  Dell  Rtx 2080 Ti    4gb          IPS                FHD\n",
       "50  Dell   Integrated    4gb           TN                FHD\n",
       "54  Dell  Rtx 2080 Ti    4gb           VA                FHD\n",
       "57  Dell  Rtx 2080 Ti    8gb           TN                FHD\n",
       "59  Dell  Gtx 1660 Ti    8gb           TN                 HD\n",
       "61  Dell  Rtx 2080 Ti    4gb          IPS                 HD\n",
       "64  Dell   Integrated    4gb           TN                FHD\n",
       "66  Dell  Rtx 2080 Ti    4gb          IPS                 4K\n",
       "69  Dell  Rtx 2080 Ti    8gb           VA                FHD\n",
       "71  Dell  Gtx 1660 Ti    4gb           VA                 4K\n",
       "72  Dell  Rtx 2080 Ti    4gb           TN                FHD\n",
       "73  Dell  Gtx 1660 Ti    4gb           TN                 4K\n",
       "74  Dell   Integrated    4gb           VA                FHD\n",
       "80  Dell  Gtx 1660 Ti    4gb           TN                 HD\n",
       "81  Dell   Integrated    4gb           VA                FHD\n",
       "83  Dell   Integrated    4gb          IPS                 HD\n",
       "85  Dell  Rtx 2080 Ti    4gb          IPS                 HD\n",
       "87  Dell   Integrated    8gb           VA                 4K\n",
       "89  Dell  Gtx 1660 Ti    8gb           TN                FHD\n",
       "93  Dell  Gtx 1660 Ti    4gb           VA                FHD"
      ]
     },
     "execution_count": 25,
     "metadata": {},
     "output_type": "execute_result"
    }
   ],
   "source": [
    "grouped_brand.get_group(\"Dell\")"
   ]
  },
  {
   "cell_type": "markdown",
   "metadata": {},
   "source": [
    "## Bonus - Simulación de Monte Carlo"
   ]
  },
  {
   "cell_type": "code",
   "execution_count": 26,
   "metadata": {},
   "outputs": [
    {
     "name": "stdout",
     "output_type": "stream",
     "text": [
      "Pi value is 3.1412039999999997\n"
     ]
    }
   ],
   "source": [
    "experiments = 1000\n",
    "throws = 1000\n",
    "pi_aprox_list = []\n",
    "\n",
    "for i in range(experiments):\n",
    "    count = 0\n",
    "    for j in range(throws):\n",
    "        x = np.random.uniform(0,1)\n",
    "        y = np.random.uniform(0,1)\n",
    "        z = np.sqrt(x**2 + y**2)\n",
    "        if z <= 1: \n",
    "            count += 1\n",
    "    pi_aprox = count / throws * 4\n",
    "    pi_aprox_list.append(pi_aprox)\n",
    "    \n",
    "pi = np.mean(pi_aprox_list)\n",
    "print(f\"Pi value is {pi}\")"
   ]
  },
  {
   "cell_type": "code",
   "execution_count": null,
   "metadata": {},
   "outputs": [],
   "source": []
  }
 ],
 "metadata": {
  "kernelspec": {
   "display_name": "Python 3",
   "language": "python",
   "name": "python3"
  },
  "language_info": {
   "codemirror_mode": {
    "name": "ipython",
    "version": 3
   },
   "file_extension": ".py",
   "mimetype": "text/x-python",
   "name": "python",
   "nbconvert_exporter": "python",
   "pygments_lexer": "ipython3",
   "version": "3.7.4"
  }
 },
 "nbformat": 4,
 "nbformat_minor": 2
}
