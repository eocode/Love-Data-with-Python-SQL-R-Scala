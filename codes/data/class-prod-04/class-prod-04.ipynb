{
 "cells": [
  {
   "cell_type": "markdown",
   "metadata": {},
   "source": [
    "# Números aleatorios\n",
    "\n",
    "La librería `numpy.random` posee más funciones para uso científico, como más distribuciones de probabilidad y una cantidad más grande de funciones para generar arreglos aleatorios. La librería `random` *built-in* es más \"liviana\" y está destinada a un uso normal\n",
    "\n",
    "Diferencia entre números pseudoaleatorios y aleatorios verdaderos"
   ]
  },
  {
   "cell_type": "code",
   "execution_count": 28,
   "metadata": {},
   "outputs": [],
   "source": [
    "import numpy as np\n",
    "import matplotlib.pyplot as plt"
   ]
  },
  {
   "cell_type": "code",
   "execution_count": 7,
   "metadata": {},
   "outputs": [
    {
     "data": {
      "text/plain": [
       "87"
      ]
     },
     "execution_count": 7,
     "metadata": {},
     "output_type": "execute_result"
    }
   ],
   "source": [
    "# Enteros aleatorios\n",
    "np.random.randint(1, 100)"
   ]
  },
  {
   "cell_type": "code",
   "execution_count": 9,
   "metadata": {},
   "outputs": [
    {
     "data": {
      "text/plain": [
       "0.6004415172151414"
      ]
     },
     "execution_count": 9,
     "metadata": {},
     "output_type": "execute_result"
    }
   ],
   "source": [
    "# Aleatorios entre 0 y 1\n",
    "np.random.random()"
   ]
  },
  {
   "cell_type": "code",
   "execution_count": 12,
   "metadata": {},
   "outputs": [
    {
     "data": {
      "text/plain": [
       "array([77, 37,  9, 96, 25])"
      ]
     },
     "execution_count": 12,
     "metadata": {},
     "output_type": "execute_result"
    }
   ],
   "source": [
    "# Arreglo de enteros aleatorios\n",
    "np.random.randint(1, 100, size=5)"
   ]
  },
  {
   "cell_type": "code",
   "execution_count": 13,
   "metadata": {},
   "outputs": [
    {
     "data": {
      "text/plain": [
       "array([0.77837348, 0.13203533, 0.11731686, 0.20708211, 0.00586441])"
      ]
     },
     "execution_count": 13,
     "metadata": {},
     "output_type": "execute_result"
    }
   ],
   "source": [
    "# Arreglo de flotantes aleatorios\n",
    "np.random.random(size=5)"
   ]
  },
  {
   "cell_type": "code",
   "execution_count": 14,
   "metadata": {},
   "outputs": [
    {
     "data": {
      "text/plain": [
       "3"
      ]
     },
     "execution_count": 14,
     "metadata": {},
     "output_type": "execute_result"
    }
   ],
   "source": [
    "# Elemento aleatorio de un arreglo\n",
    "np.random.choice([1,2,3,4,5])"
   ]
  },
  {
   "cell_type": "code",
   "execution_count": 15,
   "metadata": {},
   "outputs": [
    {
     "data": {
      "text/plain": [
       "array([3, 2, 1])"
      ]
     },
     "execution_count": 15,
     "metadata": {},
     "output_type": "execute_result"
    }
   ],
   "source": [
    "# Elementos aleatorios de un arreglo\n",
    "np.random.choice([1,2,3,4,5], size=3)"
   ]
  },
  {
   "cell_type": "code",
   "execution_count": 20,
   "metadata": {
    "collapsed": true
   },
   "outputs": [
    {
     "data": {
      "text/plain": [
       "[12,\n",
       " 11,\n",
       " 39,\n",
       " 25,\n",
       " 13,\n",
       " 43,\n",
       " 23,\n",
       " 27,\n",
       " 19,\n",
       " 44,\n",
       " 33,\n",
       " 0,\n",
       " 17,\n",
       " 7,\n",
       " 24,\n",
       " 37,\n",
       " 34,\n",
       " 16,\n",
       " 18,\n",
       " 36,\n",
       " 30,\n",
       " 40,\n",
       " 42,\n",
       " 49,\n",
       " 2,\n",
       " 46,\n",
       " 14,\n",
       " 31,\n",
       " 4,\n",
       " 35,\n",
       " 22,\n",
       " 32,\n",
       " 6,\n",
       " 26,\n",
       " 29,\n",
       " 21,\n",
       " 9,\n",
       " 10,\n",
       " 47,\n",
       " 15,\n",
       " 41,\n",
       " 1,\n",
       " 45,\n",
       " 48,\n",
       " 8,\n",
       " 20,\n",
       " 28,\n",
       " 5,\n",
       " 38,\n",
       " 3]"
      ]
     },
     "execution_count": 20,
     "metadata": {},
     "output_type": "execute_result"
    }
   ],
   "source": [
    "# Mezclar/barajar un arreglo\n",
    "some_list = list(range(50))\n",
    "np.random.shuffle(some_list)\n",
    "some_list"
   ]
  },
  {
   "cell_type": "code",
   "execution_count": 22,
   "metadata": {
    "collapsed": true
   },
   "outputs": [
    {
     "data": {
      "text/plain": [
       "array([46, 85, 67, 74, 44, 75, 58, 96, 35, 80, 31,  7, 24, 47, 29, 70, 81,\n",
       "       55, 10, 92, 98,  1, 16, 73,  5, 64, 84,  8, 61, 53, 34, 25, 21, 51,\n",
       "       43, 77, 49, 15, 33, 32, 57, 82, 45, 50, 23, 18, 30, 52, 27, 56, 48,\n",
       "       17, 97, 28, 94, 66,  9, 22,  2, 60, 88, 63, 86, 83, 71, 91, 65, 87,\n",
       "       90, 42, 26, 69, 99,  4, 14, 79, 59, 68, 20, 36,  3,  0, 93, 76, 78,\n",
       "       39, 40, 19, 38, 95, 37, 41, 12, 13,  6, 54, 62, 89, 72, 11])"
      ]
     },
     "execution_count": 22,
     "metadata": {},
     "output_type": "execute_result"
    }
   ],
   "source": [
    "# Mezclar/barajar un arreglo (pero dejar el original intacto)\n",
    "some_list = list(range(100))\n",
    "other_list = np.random.permutation(some_list)\n",
    "other_list"
   ]
  },
  {
   "cell_type": "markdown",
   "metadata": {},
   "source": [
    "## Semillas"
   ]
  },
  {
   "cell_type": "code",
   "execution_count": 18,
   "metadata": {},
   "outputs": [],
   "source": [
    "# Establecer una semilla\n",
    "np.random.seed(2020)"
   ]
  },
  {
   "cell_type": "code",
   "execution_count": 19,
   "metadata": {},
   "outputs": [
    {
     "name": "stdout",
     "output_type": "stream",
     "text": [
      "0.9862768288615988\n",
      "0.8733919458206546\n",
      "0.5097455249715815\n",
      "0.27183571428207576\n",
      "0.33691872774596354\n",
      "0.21695426501692427\n",
      "0.27647714315379956\n",
      "0.34331559277945756\n",
      "0.8621589354598529\n",
      "0.1566996700094886\n"
     ]
    }
   ],
   "source": [
    "for i in range(10):\n",
    "    print(np.random.random())"
   ]
  },
  {
   "cell_type": "markdown",
   "metadata": {},
   "source": [
    "## Distribuciones\n",
    "\n",
    "Una distribución es una lista de posibles valores, con propiedades que establecen que tanto puede aparecer cada valor"
   ]
  },
  {
   "cell_type": "code",
   "execution_count": 24,
   "metadata": {},
   "outputs": [
    {
     "data": {
      "text/plain": [
       "array([4, 3, 6, 5, 4, 3, 4, 7, 6, 4, 4, 4, 3, 4, 4, 4, 7, 5, 4, 6, 6, 4,\n",
       "       6, 5, 4, 5, 4, 4, 4, 4, 5, 6, 6, 6, 5, 5, 4, 4, 4, 6, 4, 5, 5, 6,\n",
       "       4, 4, 4, 5, 4, 4])"
      ]
     },
     "execution_count": 24,
     "metadata": {},
     "output_type": "execute_result"
    }
   ],
   "source": [
    "# Distribución personalizada con numpy.random.choice\n",
    "some_list = np.random.choice([3,4,5,6,7], p=[0.1, 0.4, 0.2, 0.2, 0.1], size=50)\n",
    "some_list"
   ]
  },
  {
   "cell_type": "code",
   "execution_count": 26,
   "metadata": {
    "collapsed": true
   },
   "outputs": [
    {
     "data": {
      "text/plain": [
       "array([  6.19718211,  56.27437366,  34.65461938,  76.39536251,\n",
       "        77.96578707,  74.24707038, 140.5151097 ,  94.13897787,\n",
       "       117.86504461, 143.0592343 ,  93.90397017,  58.10855757,\n",
       "        17.62220497, 152.14865261,  90.00406356, 141.4266335 ,\n",
       "       165.82783268, 121.60860837, 121.73809491, 157.24711599,\n",
       "        68.11451608,  98.06228511, 127.37655548,  33.26881413,\n",
       "        50.46779648, 116.25327933,  56.54531292,  93.78796434,\n",
       "       199.07573473,  79.94212513, 109.11712217, 195.78719864,\n",
       "       182.41559167, 190.05027165,  31.72264504, 167.18022374,\n",
       "       113.15761673, 193.82929406, 146.80183155,  51.26294399,\n",
       "        69.95712095, 151.26447448,  19.10508458,  16.74917757,\n",
       "        90.4731657 , 169.16659125,  89.18024374,  18.38081862,\n",
       "       182.55184152,  72.06969875, 174.00752283, 169.46858301,\n",
       "       187.80195233,  53.37323292, 162.59033906,  85.18873872,\n",
       "       157.54682229, 159.28447711, 197.2503527 , 148.05438249,\n",
       "       115.2841247 , 145.15484879, 146.43758207,  40.93391821,\n",
       "        89.35358632, 190.77553959, 129.83973423,  71.45064219,\n",
       "       161.90134833, 101.78788123, 152.85557232, 196.64018687,\n",
       "       130.80541091,  42.36258028, 123.73798851, 116.46012441,\n",
       "        50.48320936,  74.20403401,  98.44681817,  52.89716049,\n",
       "       175.59960379,  87.29706733,  30.31654427, 184.68206823,\n",
       "         9.04277463,  54.32714688, 196.95929666, 100.67655989,\n",
       "       143.38094234,  68.0306437 ,   8.88626998, 114.47407002,\n",
       "        77.29409919,  15.90565662,  75.18788842,  78.14110719,\n",
       "       106.75659911, 161.76320893, 189.31915859,  84.05717491,\n",
       "        96.90069938,  43.27238898,  20.26841839,  90.17261482,\n",
       "        80.3786627 ,  36.9431715 ,  82.00233022, 130.7021505 ,\n",
       "       193.5483005 ,  99.72994844, 105.73195325, 115.55773505,\n",
       "        19.29367789, 115.6515094 ,  18.81353834, 103.11932321,\n",
       "       186.10691835,  44.5454884 , 129.0782442 , 137.78549485,\n",
       "        15.73294964,  84.22255268, 159.9579153 ,  38.65843803,\n",
       "       177.93540024,  77.13488949,  36.97029401, 144.38762776,\n",
       "       155.0561108 , 110.71254007, 136.20977398,  51.84970264,\n",
       "       178.13349228,  78.45790065,  20.28666403,  33.11182142,\n",
       "        43.06696515,  39.1422022 , 184.27280166,  43.75396213,\n",
       "        12.37407561,  95.7106123 ,  79.14678182, 116.93112485,\n",
       "       166.26941327,  52.46877012, 178.98687348,  15.94858851,\n",
       "       188.87668396,  13.82584082,  46.11054865, 185.85516205,\n",
       "       196.24357341,  64.70889915, 125.7481294 ,  70.69744621,\n",
       "        23.62370635, 135.08084354, 131.24037735,  75.89857271,\n",
       "       176.86788798,  96.75499969,  68.79741602, 160.90253043,\n",
       "        71.47762679, 133.23056093,  71.03833424,  62.497343  ,\n",
       "        36.69060026, 154.82495917,  30.66618007, 131.53231622,\n",
       "         8.35150544, 102.18426017, 114.18683434,  24.52022295,\n",
       "       129.8444295 ,  44.08030905, 131.65782238, 125.14776518,\n",
       "        41.29570967,  81.68398962, 127.75657498,  19.7802859 ,\n",
       "       182.81807667, 167.36234341, 178.68024969,  49.19373792,\n",
       "        20.91327592, 163.4341151 , 198.4268914 , 144.92772559,\n",
       "        78.11184463,  73.41634416, 199.63205346,  20.08128837,\n",
       "        83.83454637, 160.29893604, 100.74321412, 124.6282246 ,\n",
       "        37.17311965,  65.45490458,  78.70082821, 180.34109311,\n",
       "       151.11358881,  93.61199786,  22.04462398, 142.60732313,\n",
       "        10.71187437,  81.85039618,  78.29707859, 179.31594676,\n",
       "       139.22951259,  91.82655217,  30.75095131, 163.8374435 ,\n",
       "       137.0141077 ,  77.75653164,  24.4099469 , 117.2345147 ,\n",
       "        75.66323582,   8.31467754,  54.05085928, 176.26976282,\n",
       "        34.73747757,  63.30837774,  58.05461619,  33.50109289,\n",
       "       129.84792162,  26.03399172,  32.09248603, 145.20786359,\n",
       "       161.66797947, 128.67092348, 174.85456926,  56.07846179,\n",
       "       140.3976368 , 165.34269342, 165.10267219,  63.30321797,\n",
       "       101.74150077, 130.9079553 ,  53.20737038, 117.39360763,\n",
       "       127.41399763,  84.65799877, 175.37673098, 149.69559194,\n",
       "       128.21633016, 134.51273282,  76.60180847, 154.59166682,\n",
       "        36.18786055, 107.12719286, 186.1056168 , 180.99434876,\n",
       "        31.72691293,  92.84991949, 139.70590574, 124.42255715,\n",
       "       184.99444856, 184.56284122, 148.39088398, 152.25099742,\n",
       "        15.66614282, 166.45595677, 150.49586628, 104.5352884 ,\n",
       "        30.05669016,  29.67083169, 161.49085256, 141.19146745,\n",
       "       136.74071568, 128.9956445 , 182.04419768,  38.01125274,\n",
       "        12.89546016,  30.70676808, 114.82815854,  38.1152564 ,\n",
       "        37.62679734,  62.93489319,  59.58622958, 110.19515452,\n",
       "       152.13093375,  52.44886552,  38.63047857, 132.29151906,\n",
       "        56.48322625,  54.05664126,  79.73536305,  86.34997038,\n",
       "        37.37354451,  70.01502396, 142.81931107,   8.20779854,\n",
       "       147.36782697, 159.11849789,  36.15533442,  16.34640465])"
      ]
     },
     "execution_count": 26,
     "metadata": {},
     "output_type": "execute_result"
    }
   ],
   "source": [
    "# Distribución uniforme\n",
    "low_limit = 5\n",
    "up_limit = 200\n",
    "size = 300\n",
    "uniform_dist = np.random.uniform(low_limit, up_limit, size)\n",
    "uniform_dist"
   ]
  },
  {
   "cell_type": "code",
   "execution_count": 29,
   "metadata": {},
   "outputs": [
    {
     "data": {
      "text/plain": [
       "(array([30., 36., 25., 36., 29., 23., 35., 31., 27., 28.]),\n",
       " array([  6.19718211,  25.54066924,  44.88415638,  64.22764351,\n",
       "         83.57113065, 102.91461778, 122.25810492, 141.60159205,\n",
       "        160.94507919, 180.28856632, 199.63205346]),\n",
       " <a list of 10 Patch objects>)"
      ]
     },
     "execution_count": 29,
     "metadata": {},
     "output_type": "execute_result"
    },
    {
     "data": {
      "image/png": "[encoded data removed]",
      "text/plain": [
       "<Figure size 432x288 with 1 Axes>"
      ]
     },
     "metadata": {
      "needs_background": "light"
     },
     "output_type": "display_data"
    }
   ],
   "source": [
    "%matplotlib inline\n",
    "plt.hist(uniform_dist)"
   ]
  },
  {
   "cell_type": "code",
   "execution_count": 30,
   "metadata": {},
   "outputs": [],
   "source": [
    "# Distribución normal\n",
    "normal_dist = np.random.randn(1000)"
   ]
  },
  {
   "cell_type": "code",
   "execution_count": 32,
   "metadata": {
    "collapsed": true
   },
   "outputs": [
    {
     "data": {
      "text/plain": [
       "(array([ 2.,  1.,  1.,  0.,  1.,  0.,  3.,  0.,  1.,  1.,  4.,  0.,  1.,\n",
       "         0.,  2.,  7.,  5.,  6.,  5.,  4.,  4.,  0.,  8., 10., 14., 13.,\n",
       "        12., 11., 14., 11., 16., 23., 14., 20., 19., 22., 22., 18., 17.,\n",
       "        27., 20., 30., 24., 23., 29., 25., 24., 29., 19., 20., 27., 27.,\n",
       "        21., 21., 23., 12., 15., 16., 31., 16., 17., 19., 14., 12.,  7.,\n",
       "         9.,  8., 10.,  9.,  5., 10.,  9., 11., 13., 10.,  4.,  8.,  2.,\n",
       "         2.,  8.,  4.,  2.,  2.,  3.,  1.,  2.,  1.,  2.,  2.,  1.,  0.,\n",
       "         0.,  0.,  0.,  0.,  1.,  0.,  0.,  0.,  1.]),\n",
       " array([-2.83957978, -2.7786979 , -2.71781602, -2.65693414, -2.59605226,\n",
       "        -2.53517038, -2.4742885 , -2.41340662, -2.35252474, -2.29164286,\n",
       "        -2.23076098, -2.1698791 , -2.10899722, -2.04811534, -1.98723345,\n",
       "        -1.92635157, -1.86546969, -1.80458781, -1.74370593, -1.68282405,\n",
       "        -1.62194217, -1.56106029, -1.50017841, -1.43929653, -1.37841465,\n",
       "        -1.31753277, -1.25665089, -1.19576901, -1.13488713, -1.07400524,\n",
       "        -1.01312336, -0.95224148, -0.8913596 , -0.83047772, -0.76959584,\n",
       "        -0.70871396, -0.64783208, -0.5869502 , -0.52606832, -0.46518644,\n",
       "        -0.40430456, -0.34342268, -0.2825408 , -0.22165892, -0.16077703,\n",
       "        -0.09989515, -0.03901327,  0.02186861,  0.08275049,  0.14363237,\n",
       "         0.20451425,  0.26539613,  0.32627801,  0.38715989,  0.44804177,\n",
       "         0.50892365,  0.56980553,  0.63068741,  0.69156929,  0.75245118,\n",
       "         0.81333306,  0.87421494,  0.93509682,  0.9959787 ,  1.05686058,\n",
       "         1.11774246,  1.17862434,  1.23950622,  1.3003881 ,  1.36126998,\n",
       "         1.42215186,  1.48303374,  1.54391562,  1.6047975 ,  1.66567938,\n",
       "         1.72656127,  1.78744315,  1.84832503,  1.90920691,  1.97008879,\n",
       "         2.03097067,  2.09185255,  2.15273443,  2.21361631,  2.27449819,\n",
       "         2.33538007,  2.39626195,  2.45714383,  2.51802571,  2.57890759,\n",
       "         2.63978948,  2.70067136,  2.76155324,  2.82243512,  2.883317  ,\n",
       "         2.94419888,  3.00508076,  3.06596264,  3.12684452,  3.1877264 ,\n",
       "         3.24860828]),\n",
       " <a list of 100 Patch objects>)"
      ]
     },
     "execution_count": 32,
     "metadata": {},
     "output_type": "execute_result"
    },
    {
     "data": {
      "image/png": "[encoded data removed]",
      "text/plain": [
       "<Figure size 432x288 with 1 Axes>"
      ]
     },
     "metadata": {
      "needs_background": "light"
     },
     "output_type": "display_data"
    }
   ],
   "source": [
    "%matplotlib inline\n",
    "plt.hist(normal_dist, bins=100)"
   ]
  },
  {
   "cell_type": "code",
   "execution_count": null,
   "metadata": {},
   "outputs": [],
   "source": []
  }
 ],
 "metadata": {
  "kernelspec": {
   "display_name": "Python 3",
   "language": "python",
   "name": "python3"
  },
  "language_info": {
   "codemirror_mode": {
    "name": "ipython",
    "version": 3
   },
   "file_extension": ".py",
   "mimetype": "text/x-python",
   "name": "python",
   "nbconvert_exporter": "python",
   "pygments_lexer": "ipython3",
   "version": "3.7.4"
  }
 },
 "nbformat": 4,
 "nbformat_minor": 2
}
